{
  "nbformat": 4,
  "nbformat_minor": 0,
  "metadata": {
    "colab": {
      "provenance": []
    },
    "kernelspec": {
      "name": "python3",
      "display_name": "Python 3"
    },
    "language_info": {
      "name": "python"
    }
  },
  "cells": [
    {
      "cell_type": "code",
      "execution_count": null,
      "metadata": {
        "id": "iqMjNnkbwwE7"
      },
      "outputs": [],
      "source": [
        "#Importing necessary libraries\n",
        "from sklearn.datasets import load_wine\n",
        "from sklearn.model_selection import train_test_split\n",
        "from sklearn.tree import DecisionTreeClassifier\n",
        "from sklearn.ensemble import RandomForestClassifier\n",
        "from sklearn.metrics import f1_score"
      ]
    },
    {
      "cell_type": "code",
      "source": [
        "# Loading the Wine dataset\n",
        "data = load_wine()\n",
        "\n",
        "X = data.data  # Feature matrix\n",
        "y = data.target  # Target labels\n",
        "\n",
        "# Splitting the dataset into training(80%) and testing(20%) sets\n",
        "X_train, X_test, y_train, y_test = train_test_split(X, y, test_size=0.2, random_state=42)"
      ],
      "metadata": {
        "id": "qYjeVqVNw7q-"
      },
      "execution_count": null,
      "outputs": []
    },
    {
      "cell_type": "code",
      "source": [
        "# Training a Decision Tree Classifier\n",
        "dt_classifier = DecisionTreeClassifier(random_state=42) # Initializing with a random seed\n",
        "dt_classifier.fit(X_train, y_train) # Training the model on training data\n",
        "dt_pred = dt_classifier.predict(X_test) # Predicting on the test data"
      ],
      "metadata": {
        "id": "PoewGnpGxZYI"
      },
      "execution_count": null,
      "outputs": []
    },
    {
      "cell_type": "code",
      "source": [
        "# Train a Random Forest Classifier\n",
        "rf_classifier = RandomForestClassifier(random_state=42) # Initializing with a random seed\n",
        "rf_classifier.fit(X_train, y_train) # Training the model on training data\n",
        "rf_pred = rf_classifier.predict(X_test) # Predicting on the test data\n"
      ],
      "metadata": {
        "id": "9uHfH0zbxa-f"
      },
      "execution_count": null,
      "outputs": []
    },
    {
      "cell_type": "code",
      "source": [
        "# Comparing F1 scores of the two classifiers\n",
        "dt_f1 = f1_score(y_test, dt_pred, average='weighted') # F1 score for Decision Tree\n",
        "rf_f1 = f1_score(y_test, rf_pred, average='weighted') # F1 score for Random Forest\n",
        "\n",
        "print(f\"F1 Score - Decision Tree: {dt_f1:.4f}\")\n",
        "print(f\"F1 Score - Random Forest: {rf_f1:.4f}\")\n",
        "print(\"The Random Forest Classifier outperformed the Decision Tree Classifier. \")\n"
      ],
      "metadata": {
        "colab": {
          "base_uri": "https://localhost:8080/"
        },
        "id": "7RJ_jZdNxcnj",
        "outputId": "4f375a6f-e041-4cdf-90db-ffd4b1c9749f"
      },
      "execution_count": null,
      "outputs": [
        {
          "output_type": "stream",
          "name": "stdout",
          "text": [
            "F1 Score - Decision Tree: 0.9440\n",
            "F1 Score - Random Forest: 1.0000\n"
          ]
        }
      ]
    },
    {
      "cell_type": "code",
      "source": [
        "# Importing GridSearchCV for hyperparameter tuning\n",
        "from sklearn.model_selection import GridSearchCV\n",
        "\n",
        "# Define the hyperparameter grid for tuning\n",
        "param_grid = {\n",
        "    'n_estimators': [75, 100, 250],  # Number of trees\n",
        "    'max_depth': [None, 10, 20],    # Maximum depth of the tree\n",
        "    'min_samples_split': [2, 6, 10] # Minimum number of samples required to split a node\n",
        "}\n",
        "\n",
        "# Perform Grid Search\n",
        "grid_search = GridSearchCV(estimator=rf_classifier, param_grid=param_grid, scoring='f1_weighted', cv=5)\n",
        "grid_search.fit(X_train, y_train)\n",
        "\n",
        "# Best parameters and F1 score\n",
        "best_params = grid_search.best_params_\n",
        "best_f1 = grid_search.best_score_\n",
        "\n",
        "print(f\"Best Parameters: {best_params}\")\n",
        "print(f\"Best F1 Score from GridSearchCV: {best_f1:.4f}\")\n"
      ],
      "metadata": {
        "colab": {
          "base_uri": "https://localhost:8080/"
        },
        "id": "mHrLRKj8xtwg",
        "outputId": "27d0848b-cf9f-427b-d785-2ccc6e5bc70b"
      },
      "execution_count": null,
      "outputs": [
        {
          "output_type": "stream",
          "name": "stdout",
          "text": [
            "Best Parameters: {'max_depth': None, 'min_samples_split': 2, 'n_estimators': 75}\n",
            "Best F1 Score from GridSearchCV: 0.9783\n"
          ]
        }
      ]
    },
    {
      "cell_type": "code",
      "source": [
        "# Importing libraries for regression tasks\n",
        "from sklearn.tree import DecisionTreeRegressor\n",
        "from sklearn.ensemble import RandomForestRegressor\n",
        "from sklearn.model_selection import RandomizedSearchCV\n",
        "from sklearn.metrics import mean_squared_error"
      ],
      "metadata": {
        "id": "O1liHZVeyGH0"
      },
      "execution_count": null,
      "outputs": []
    },
    {
      "cell_type": "code",
      "source": [
        "# Training a Decision Tree Regressor\n",
        "dt_regressor = DecisionTreeRegressor(random_state=42)\n",
        "dt_regressor.fit(X_train, y_train)\n",
        "dt_reg_pred = dt_regressor.predict(X_test)"
      ],
      "metadata": {
        "id": "vZKli1cAyHWL"
      },
      "execution_count": null,
      "outputs": []
    },
    {
      "cell_type": "code",
      "source": [
        "# Training a Random Forest Regressor\n",
        "rf_regressor = RandomForestRegressor(random_state=42)\n",
        "rf_regressor.fit(X_train, y_train)\n",
        "rf_reg_pred = rf_regressor.predict(X_test)"
      ],
      "metadata": {
        "id": "RiXLU2qSyIn_"
      },
      "execution_count": null,
      "outputs": []
    },
    {
      "cell_type": "code",
      "source": [
        "# Evaluating using Mean Squared Error\n",
        "dt_mse = mean_squared_error(y_test, dt_reg_pred)\n",
        "rf_mse = mean_squared_error(y_test, rf_reg_pred)\n",
        "\n",
        "print(f\"MSE - Decision Tree Regressor: {dt_mse:.4f}\")\n",
        "print(f\"MSE - Random Forest Regressor: {rf_mse:.4f}\")"
      ],
      "metadata": {
        "colab": {
          "base_uri": "https://localhost:8080/"
        },
        "id": "hZlS-MFJyKev",
        "outputId": "fd79aa99-9cec-492c-df12-c9e036a804b6"
      },
      "execution_count": null,
      "outputs": [
        {
          "output_type": "stream",
          "name": "stdout",
          "text": [
            "MSE - Decision Tree Regressor: 0.1667\n",
            "MSE - Random Forest Regressor: 0.0648\n"
          ]
        }
      ]
    },
    {
      "cell_type": "code",
      "source": [
        "# Random Forest Regressor Hyperparameter Tuning\n",
        "param_dist = {\n",
        "    'n_estimators': [75, 100, 250],\n",
        "    'max_depth': [None, 10, 20],\n",
        "    'min_samples_split': [2, 5, 10],\n",
        "    'min_samples_leaf': [1, 2, 4]\n",
        "}\n",
        "\n",
        "# Perform Randomized Search for hyperparameter tuning\n",
        "random_search = RandomizedSearchCV(estimator=rf_regressor, param_distributions=param_dist,\n",
        "                                   n_iter=20, scoring='neg_mean_squared_error', cv=5, random_state=42)\n",
        "random_search.fit(X_train, y_train)\n",
        "\n",
        "# Best parameters and MSE\n",
        "best_reg_params = random_search.best_params_\n",
        "best_reg_mse = -random_search.best_score_\n",
        "\n",
        "print(f\"Best Parameters for Random Forest Regressor: {best_reg_params}\")\n",
        "print(f\"Best MSE from RandomizedSearchCV: {best_reg_mse:.4f}\")"
      ],
      "metadata": {
        "colab": {
          "base_uri": "https://localhost:8080/"
        },
        "id": "UlK7NoeuyNXy",
        "outputId": "af4c0cbc-bd05-46d1-8e9b-4a44471303ad"
      },
      "execution_count": null,
      "outputs": [
        {
          "output_type": "stream",
          "name": "stdout",
          "text": [
            "Best Parameters for Random Forest Regressor: {'n_estimators': 200, 'min_samples_split': 10, 'min_samples_leaf': 1, 'max_depth': 10}\n",
            "Best MSE from RandomizedSearchCV: 0.0468\n"
          ]
        }
      ]
    }
  ]
}