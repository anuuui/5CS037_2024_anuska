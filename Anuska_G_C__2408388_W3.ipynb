{
  "nbformat": 4,
  "nbformat_minor": 0,
  "metadata": {
    "colab": {
      "provenance": []
    },
    "kernelspec": {
      "name": "python3",
      "display_name": "Python 3"
    },
    "language_info": {
      "name": "python"
    }
  },
  "cells": [
    {
      "cell_type": "markdown",
      "source": [
        "**3.1 Warm Up Exercises:**\n",
        "1. Sorting and Subsetting:"
      ],
      "metadata": {
        "id": "MktO210zaznr"
      }
    },
    {
      "cell_type": "markdown",
      "source": [
        "Problem 1 - Sorting:\n"
      ],
      "metadata": {
        "id": "2J7zHrjUa7Jh"
      }
    },
    {
      "cell_type": "code",
      "execution_count": null,
      "metadata": {
        "colab": {
          "base_uri": "https://localhost:8080/"
        },
        "id": "xs_AioCzTm8Z",
        "outputId": "c7fbd79c-e671-4849-a300-787435ce34ad"
      },
      "outputs": [
        {
          "output_type": "stream",
          "name": "stdout",
          "text": [
            "Fare dataframe:\n",
            "      Fare\n",
            "0   7.2500\n",
            "1  71.2833\n",
            "2   7.9250\n",
            "3  53.1000\n",
            "4   8.0500\n",
            "\n",
            "Class-age dataframe:\n",
            "   Pclass   Age\n",
            "0       3  22.0\n",
            "1       1  38.0\n",
            "2       3  26.0\n",
            "3       1  35.0\n",
            "4       3  35.0\n",
            "\n",
            "Survived gender dataframe:\n",
            "   Survived     Sex\n",
            "0         0    male\n",
            "1         1  female\n",
            "2         1  female\n",
            "3         1  female\n",
            "4         0    male\n",
            "\n"
          ]
        }
      ],
      "source": [
        "#Importing pandas\n",
        "import pandas as pd\n",
        "\n",
        "#(1).Loading the bank.csv file\n",
        "file_path='Titanic-Dataset.csv';\n",
        "dataset = pd.read_csv(file_path)\n",
        "\n",
        "#Creating a dataframe named fare that contains only Fare column\n",
        "fare = dataset[['Fare']]\n",
        "print(\"Fare dataframe:\")\n",
        "print(fare.head())\n",
        "print()\n",
        "\n",
        "#Creating a dataframe named class_age that contains only Pclass and Age columns\n",
        "class_age= dataset[['Pclass', 'Age']]\n",
        "print(\"Class-age dataframe:\")\n",
        "print(class_age.head())\n",
        "print()\n",
        "\n",
        "#Creating a dataframe named survived_gender that contains only Survived and Sex columns\n",
        "survived_gender = dataset[['Survived', 'Sex']]\n",
        "print(\"Survived gender dataframe:\")\n",
        "print(survived_gender.head())\n",
        "print()\n"
      ]
    },
    {
      "cell_type": "markdown",
      "source": [
        "Problem - 2 - Subsetting:"
      ],
      "metadata": {
        "id": "9nRq5uQ7bCwW"
      }
    },
    {
      "cell_type": "markdown",
      "source": [
        "Subsetting Rows:\n"
      ],
      "metadata": {
        "id": "ussunGjAgxW4"
      }
    },
    {
      "cell_type": "code",
      "source": [
        "#Importing pandas\n",
        "import pandas as pd\n",
        "\n",
        "#(1).Loading the bank.csv file\n",
        "file_path='Titanic-Dataset.csv';\n",
        "dataset = pd.read_csv(file_path)\n",
        "\n",
        "#Filtering the dataset where passenger's fare is >100\n",
        "fare_gt_100 = dataset[dataset['Fare'] > 100]\n",
        "print(\"Passenger’s fare greater than 100 is:\")\n",
        "print()\n",
        "print(fare_gt_100.head().to_string(index=False))\n",
        "print()\n",
        "\n",
        "#Filtering the dataset where passenger's Pclass is 1\n",
        "first_class = dataset[dataset['Pclass'] == 1]\n",
        "print(\"Passenger’s class (Pclass=1) is:\")\n",
        "print()\n",
        "print(first_class.head().to_string(index=False))\n",
        "print()\n",
        "\n",
        "#Filtering the dataset where passenger is female and age less than 18.\n",
        "female_under_18 = dataset[(dataset['Age'] < 18) & (dataset['Sex'] == 'female')]\n",
        "print(\"Passenger who is female and less than 18 is:\")\n",
        "print()\n",
        "print(female_under_18.head().to_string(index=False))\n",
        "print()"
      ],
      "metadata": {
        "colab": {
          "base_uri": "https://localhost:8080/"
        },
        "id": "hKcxyqGmbDSt",
        "outputId": "924f5158-fa75-4fc1-ef0d-845bd9e458eb"
      },
      "execution_count": null,
      "outputs": [
        {
          "output_type": "stream",
          "name": "stdout",
          "text": [
            "Passenger’s fare greater than 100 is:\n",
            "\n",
            " PassengerId  Survived  Pclass                                           Name    Sex  Age  SibSp  Parch   Ticket     Fare       Cabin Embarked\n",
            "          28         0       1                 Fortune, Mr. Charles Alexander   male 19.0      3      2    19950 263.0000 C23 C25 C27        S\n",
            "          32         1       1 Spencer, Mrs. William Augustus (Marie Eugenie) female  NaN      1      0 PC 17569 146.5208         B78        C\n",
            "          89         1       1                     Fortune, Miss. Mabel Helen female 23.0      3      2    19950 263.0000 C23 C25 C27        S\n",
            "         119         0       1                       Baxter, Mr. Quigg Edmond   male 24.0      0      1 PC 17558 247.5208     B58 B60        C\n",
            "         196         1       1                           Lurette, Miss. Elise female 58.0      0      0 PC 17569 146.5208         B80        C\n",
            "\n",
            "Passenger’s class (Pclass=1) is:\n",
            "\n",
            " PassengerId  Survived  Pclass                                                Name    Sex  Age  SibSp  Parch   Ticket    Fare Cabin Embarked\n",
            "           2         1       1 Cumings, Mrs. John Bradley (Florence Briggs Thayer) female 38.0      1      0 PC 17599 71.2833   C85        C\n",
            "           4         1       1        Futrelle, Mrs. Jacques Heath (Lily May Peel) female 35.0      1      0   113803 53.1000  C123        S\n",
            "           7         0       1                             McCarthy, Mr. Timothy J   male 54.0      0      0    17463 51.8625   E46        S\n",
            "          12         1       1                            Bonnell, Miss. Elizabeth female 58.0      0      0   113783 26.5500  C103        S\n",
            "          24         1       1                        Sloper, Mr. William Thompson   male 28.0      0      0   113788 35.5000    A6        S\n",
            "\n",
            "Passenger who is female and less than 18.\n",
            "\n",
            " PassengerId  Survived  Pclass                                 Name    Sex  Age  SibSp  Parch  Ticket    Fare Cabin Embarked\n",
            "          10         1       2  Nasser, Mrs. Nicholas (Adele Achem) female 14.0      1      0  237736 30.0708   NaN        C\n",
            "          11         1       3      Sandstrom, Miss. Marguerite Rut female  4.0      1      1 PP 9549 16.7000    G6        S\n",
            "          15         0       3 Vestrom, Miss. Hulda Amanda Adolfina female 14.0      0      0  350406  7.8542   NaN        S\n",
            "          23         1       3          McGowan, Miss. Anna \"Annie\" female 15.0      0      0  330923  8.0292   NaN        Q\n",
            "          25         0       3        Palsson, Miss. Torborg Danira female  8.0      3      1  349909 21.0750   NaN        S\n",
            "\n"
          ]
        }
      ]
    },
    {
      "cell_type": "markdown",
      "source": [
        "Subsetting Rows by Categorical variables:\n"
      ],
      "metadata": {
        "id": "PoFP4qOWgylV"
      }
    },
    {
      "cell_type": "code",
      "source": [
        "#Importing pandas\n",
        "import pandas as pd\n",
        "\n",
        "#(1).Loading the bank.csv file\n",
        "file_path='Titanic-Dataset.csv';\n",
        "dataset = pd.read_csv(file_path)\n",
        "\n",
        "#Filtering the dataset where passenger's Embarked port is either C or S\n",
        "embarked_c_or_s = dataset[dataset['Embarked'].isin(['C', 'S'])]\n",
        "print(\"Embarked port C or S is:\")\n",
        "print()\n",
        "print(embarked_c_or_s.head().to_string(index=False))\n",
        "print()\n",
        "\n",
        "#Filtering the dataset where passenger's Pclass is in the list [1,2]\n",
        "first_second_class = dataset[dataset['Pclass'].isin([1, 2])]\n",
        "print(\"Pclass is in the first or second class is:\")\n",
        "print()\n",
        "print(first_second_class.head().to_string(index=False))\n"
      ],
      "metadata": {
        "colab": {
          "base_uri": "https://localhost:8080/"
        },
        "id": "ATppBp5Tgz6v",
        "outputId": "3cf2bf0a-6d85-4758-f269-594a80c18345"
      },
      "execution_count": null,
      "outputs": [
        {
          "output_type": "stream",
          "name": "stdout",
          "text": [
            "Embarked port C or S is:\n",
            "\n",
            " PassengerId  Survived  Pclass                                                Name    Sex  Age  SibSp  Parch           Ticket    Fare Cabin Embarked\n",
            "           1         0       3                             Braund, Mr. Owen Harris   male 22.0      1      0        A/5 21171  7.2500   NaN        S\n",
            "           2         1       1 Cumings, Mrs. John Bradley (Florence Briggs Thayer) female 38.0      1      0         PC 17599 71.2833   C85        C\n",
            "           3         1       3                              Heikkinen, Miss. Laina female 26.0      0      0 STON/O2. 3101282  7.9250   NaN        S\n",
            "           4         1       1        Futrelle, Mrs. Jacques Heath (Lily May Peel) female 35.0      1      0           113803 53.1000  C123        S\n",
            "           5         0       3                            Allen, Mr. William Henry   male 35.0      0      0           373450  8.0500   NaN        S\n",
            "\n",
            "Pclass is in the list [1, 2] is:\n",
            "\n",
            " PassengerId  Survived  Pclass                                                Name    Sex  Age  SibSp  Parch   Ticket    Fare Cabin Embarked\n",
            "           2         1       1 Cumings, Mrs. John Bradley (Florence Briggs Thayer) female 38.0      1      0 PC 17599 71.2833   C85        C\n",
            "           4         1       1        Futrelle, Mrs. Jacques Heath (Lily May Peel) female 35.0      1      0   113803 53.1000  C123        S\n",
            "           7         0       1                             McCarthy, Mr. Timothy J   male 54.0      0      0    17463 51.8625   E46        S\n",
            "          10         1       2                 Nasser, Mrs. Nicholas (Adele Achem) female 14.0      1      0   237736 30.0708   NaN        C\n",
            "          12         1       1                            Bonnell, Miss. Elizabeth female 58.0      0      0   113783 26.5500  C103        S\n"
          ]
        }
      ]
    },
    {
      "cell_type": "markdown",
      "source": [
        "**3.2 Exploratory Data Analysis Practice Exercise - 1.**"
      ],
      "metadata": {
        "id": "F-BSZJ2NiTzj"
      }
    },
    {
      "cell_type": "markdown",
      "source": [
        "Which passenger had the highest fare paid relative to their age?"
      ],
      "metadata": {
        "id": "iJeXk9GFqMpl"
      }
    },
    {
      "cell_type": "code",
      "source": [
        "#Importing pandas\n",
        "import pandas as pd\n",
        "\n",
        "#(1).Loading the bank.csv file\n",
        "file_path='Titanic-Dataset.csv';\n",
        "dataset = pd.read_csv(file_path)\n",
        "\n",
        "#Handling the missing values in age column by filling them with median age of the dataset.\n",
        "median_age = dataset['Age'].median()\n",
        "# Fill missing values in the Age column with the median age\n",
        "dataset['Age'].fillna(median_age, inplace=True)\n",
        "\n",
        "#Adding the Fare-per-Year column which contains the fare divided by the age of the passenger\n",
        "dataset[\"Fare-per-Year\"]=dataset['Fare'] / dataset['Age']\n",
        "print(\"After adding new Fare-per-Year column:\")\n",
        "print()\n",
        "print(dataset.head().to_string(index=False))\n",
        "print()\n",
        "\n",
        "#Subsetting the rows where Fare-per-Year>5 then assigning it to the high_fare_age\n",
        "high_fare_age = dataset[dataset['Fare-per-Year'] > 5]\n",
        "print(\"Fare-per-Year > 5 is:\")\n",
        "print()\n",
        "print(high_fare_age.head().to_string(index=False))\n",
        "print()\n",
        "\n",
        "#  Sortting high_fare_age by descending Fare-per-Year and assigning it to high_fare_age_srt\n",
        "high_fare_age_srt = high_fare_age.sort_values(by='Fare-per-Year', ascending=False)\n",
        "print(\"Sorted high_fare_age by Fare-per-Year in descending order:\")\n",
        "print()\n",
        "print(high_fare_age_srt.head().to_string(index=False))\n",
        "print()\n",
        "\n",
        "# Selecting only the Name and Fare-per-Year columns from high_fare_age_srt\n",
        "result = high_fare_age_srt[['Name', 'Fare-per-Year']]\n",
        "\n",
        "#Printing the result\n",
        "print(\"Result with only Name and Fare-per-Year columns:\")\n",
        "print()\n",
        "print(result.head().to_string(index=False))\n",
        "\n"
      ],
      "metadata": {
        "colab": {
          "base_uri": "https://localhost:8080/"
        },
        "id": "o6sJA-MljPxh",
        "outputId": "accaac96-a954-490f-b5cc-3192bd2ba882"
      },
      "execution_count": null,
      "outputs": [
        {
          "output_type": "stream",
          "name": "stdout",
          "text": [
            "Missing values in 'Age' column: 177\n",
            "Missing values in 'Age' column after filling: 0\n",
            "After adding new Fare-per-Year column:\n",
            "\n",
            " PassengerId  Survived  Pclass                                                Name    Sex  Age  SibSp  Parch           Ticket    Fare Cabin Embarked  Fare-per-Year\n",
            "           1         0       3                             Braund, Mr. Owen Harris   male 22.0      1      0        A/5 21171  7.2500   NaN        S       0.329545\n",
            "           2         1       1 Cumings, Mrs. John Bradley (Florence Briggs Thayer) female 38.0      1      0         PC 17599 71.2833   C85        C       1.875876\n",
            "           3         1       3                              Heikkinen, Miss. Laina female 26.0      0      0 STON/O2. 3101282  7.9250   NaN        S       0.304808\n",
            "           4         1       1        Futrelle, Mrs. Jacques Heath (Lily May Peel) female 35.0      1      0           113803 53.1000  C123        S       1.517143\n",
            "           5         0       3                            Allen, Mr. William Henry   male 35.0      0      0           373450  8.0500   NaN        S       0.230000\n",
            "\n",
            "Fare-per-Year > 5 is:\n",
            "\n",
            " PassengerId  Survived  Pclass                                           Name    Sex  Age  SibSp  Parch        Ticket     Fare       Cabin Embarked  Fare-per-Year\n",
            "           8         0       3                 Palsson, Master. Gosta Leonard   male  2.0      3      1        349909  21.0750         NaN        S      10.537500\n",
            "          17         0       3                           Rice, Master. Eugene   male  2.0      4      1        382652  29.1250         NaN        Q      14.562500\n",
            "          28         0       1                 Fortune, Mr. Charles Alexander   male 19.0      3      2         19950 263.0000 C23 C25 C27        S      13.842105\n",
            "          32         1       1 Spencer, Mrs. William Augustus (Marie Eugenie) female 28.0      1      0      PC 17569 146.5208         B78        C       5.232886\n",
            "          44         1       2       Laroche, Miss. Simonne Marie Anne Andree female  3.0      1      2 SC/Paris 2123  41.5792         NaN        C      13.859733\n",
            "\n",
            "Sorted high_fare_age by Fare-per-Year in descending order:\n",
            "\n",
            " PassengerId  Survived  Pclass                            Name    Sex  Age  SibSp  Parch  Ticket     Fare   Cabin Embarked  Fare-per-Year\n",
            "         306         1       1  Allison, Master. Hudson Trevor   male 0.92      1      2  113781 151.5500 C22 C26        S     164.728261\n",
            "         298         0       1    Allison, Miss. Helen Loraine female 2.00      1      2  113781 151.5500 C22 C26        S      75.775000\n",
            "         387         0       3 Goodwin, Master. Sidney Leonard   male 1.00      5      2 CA 2144  46.9000     NaN        S      46.900000\n",
            "         165         0       3    Panula, Master. Eino Viljami   male 1.00      4      1 3101295  39.6875     NaN        S      39.687500\n",
            "         184         1       2       Becker, Master. Richard F   male 1.00      2      1  230136  39.0000      F4        S      39.000000\n",
            "\n",
            "Result with only Name and Fare-per-Year columns:\n",
            "\n",
            "                           Name  Fare-per-Year\n",
            " Allison, Master. Hudson Trevor     164.728261\n",
            "   Allison, Miss. Helen Loraine      75.775000\n",
            "Goodwin, Master. Sidney Leonard      46.900000\n",
            "   Panula, Master. Eino Viljami      39.687500\n",
            "      Becker, Master. Richard F      39.000000\n"
          ]
        },
        {
          "output_type": "stream",
          "name": "stderr",
          "text": [
            "<ipython-input-3-f5753c304e06>:14: FutureWarning: A value is trying to be set on a copy of a DataFrame or Series through chained assignment using an inplace method.\n",
            "The behavior will change in pandas 3.0. This inplace method will never work because the intermediate object on which we are setting values always behaves as a copy.\n",
            "\n",
            "For example, when doing 'df[col].method(value, inplace=True)', try using 'df.method({col: value}, inplace=True)' or df[col] = df[col].method(value) instead, to perform the operation inplace on the original object.\n",
            "\n",
            "\n",
            "  dataset['Age'].fillna(median_age, inplace=True)\n"
          ]
        }
      ]
    },
    {
      "cell_type": "markdown",
      "source": [
        "Which adult male passenger (age ≥ 18 and Sex is ’male’) paid the highest fare relative to their\n",
        "class?"
      ],
      "metadata": {
        "id": "ub_L1gQdT4bR"
      }
    },
    {
      "cell_type": "code",
      "source": [
        "#Importing pandas\n",
        "import pandas as pd\n",
        "\n",
        "#(1).Loading the bank.csv file\n",
        "file_path='Titanic-Dataset.csv';\n",
        "dataset = pd.read_csv(file_path)\n",
        "\n",
        "#Adding a column Fare per class which contains fare divided by Pclass\n",
        "dataset[\"Fare per class\"]=dataset['Fare'] / dataset['Pclass']\n",
        "print(\"After adding Fare per class column:\")\n",
        "print()\n",
        "print(dataset.head().to_string(index=False))\n",
        "print()\n",
        "\n",
        "#Subsetting the rows where passenger is a male and an adult\n",
        "Adult_males = dataset[(dataset['Sex'] == 'male') & (dataset['Age'] >= 18)]\n",
        "print(\"After asubsetting rows where sex=male and age>=18:\")\n",
        "print()\n",
        "print(Adult_males.head())\n",
        "print()\n",
        "\n",
        "#Sorting adult_males by descending fare_per_class and assigning it to adult_males_srt\n",
        "adult_males_srt = Adult_males.sort_values(by='Fare per class', ascending=False)\n",
        "print(\"After sorting adult males by descending Fare per class:\")\n",
        "print()\n",
        "print(adult_males_srt.head().to_string(index=False))\n",
        "print()\n",
        "\n",
        "#Selecting only 'Name', 'Age', 'Fare per class'\n",
        "result = adult_males_srt[['Name', 'Age', 'Fare per class']]\n",
        "print(\"Final result with Name, Age, and Fare per class columns:\")\n",
        "print()\n",
        "print(result.head().to_string(index=False))"
      ],
      "metadata": {
        "colab": {
          "base_uri": "https://localhost:8080/"
        },
        "id": "hJMLd5FcT47l",
        "outputId": "fd5c9ae1-7c97-478c-f0ec-70a4116b03e2"
      },
      "execution_count": null,
      "outputs": [
        {
          "output_type": "stream",
          "name": "stdout",
          "text": [
            "After adding Fare per class column:\n",
            "\n",
            " PassengerId  Survived  Pclass                                                Name    Sex  Age  SibSp  Parch           Ticket    Fare Cabin Embarked  Fare per class\n",
            "           1         0       3                             Braund, Mr. Owen Harris   male 22.0      1      0        A/5 21171  7.2500   NaN        S        2.416667\n",
            "           2         1       1 Cumings, Mrs. John Bradley (Florence Briggs Thayer) female 38.0      1      0         PC 17599 71.2833   C85        C       71.283300\n",
            "           3         1       3                              Heikkinen, Miss. Laina female 26.0      0      0 STON/O2. 3101282  7.9250   NaN        S        2.641667\n",
            "           4         1       1        Futrelle, Mrs. Jacques Heath (Lily May Peel) female 35.0      1      0           113803 53.1000  C123        S       53.100000\n",
            "           5         0       3                            Allen, Mr. William Henry   male 35.0      0      0           373450  8.0500   NaN        S        2.683333\n",
            "\n",
            "After asubsetting rows where sex=male and age>=18:\n",
            "\n",
            "    PassengerId  Survived  Pclass                            Name   Sex   Age  \\\n",
            "0             1         0       3         Braund, Mr. Owen Harris  male  22.0   \n",
            "4             5         0       3        Allen, Mr. William Henry  male  35.0   \n",
            "6             7         0       1         McCarthy, Mr. Timothy J  male  54.0   \n",
            "12           13         0       3  Saundercock, Mr. William Henry  male  20.0   \n",
            "13           14         0       3     Andersson, Mr. Anders Johan  male  39.0   \n",
            "\n",
            "    SibSp  Parch     Ticket     Fare Cabin Embarked  Fare per class  \n",
            "0       1      0  A/5 21171   7.2500   NaN        S        2.416667  \n",
            "4       0      0     373450   8.0500   NaN        S        2.683333  \n",
            "6       0      0      17463  51.8625   E46        S       51.862500  \n",
            "12      0      0  A/5. 2151   8.0500   NaN        S        2.683333  \n",
            "13      1      5     347082  31.2750   NaN        S       10.425000  \n",
            "\n",
            "After sorting adult males by descending Fare per class:\n",
            "\n",
            " PassengerId  Survived  Pclass                               Name  Sex  Age  SibSp  Parch   Ticket     Fare       Cabin Embarked  Fare per class\n",
            "         738         1       1             Lesurer, Mr. Gustave J male 35.0      0      0 PC 17755 512.3292        B101        C        512.3292\n",
            "         680         1       1 Cardeza, Mr. Thomas Drake Martinez male 36.0      0      1 PC 17755 512.3292 B51 B53 B55        C        512.3292\n",
            "          28         0       1     Fortune, Mr. Charles Alexander male 19.0      3      2    19950 263.0000 C23 C25 C27        S        263.0000\n",
            "         439         0       1                  Fortune, Mr. Mark male 64.0      1      4    19950 263.0000 C23 C25 C27        S        263.0000\n",
            "         119         0       1           Baxter, Mr. Quigg Edmond male 24.0      0      1 PC 17558 247.5208     B58 B60        C        247.5208\n",
            "\n",
            "Final result with Name, Age, and Fare per class columns:\n",
            "\n",
            "                              Name  Age  Fare per class\n",
            "            Lesurer, Mr. Gustave J 35.0        512.3292\n",
            "Cardeza, Mr. Thomas Drake Martinez 36.0        512.3292\n",
            "    Fortune, Mr. Charles Alexander 19.0        263.0000\n",
            "                 Fortune, Mr. Mark 64.0        263.0000\n",
            "          Baxter, Mr. Quigg Edmond 24.0        247.5208\n"
          ]
        }
      ]
    },
    {
      "cell_type": "markdown",
      "source": [
        "**3.3 Exploratory Data Analysis with Group-by Method Practice Exercise:**"
      ],
      "metadata": {
        "id": "7G0RIymyZfwF"
      }
    },
    {
      "cell_type": "markdown",
      "source": [
        "What percent of the total fare revenue came from each passenger class?"
      ],
      "metadata": {
        "id": "SScfT3dZZieh"
      }
    },
    {
      "cell_type": "code",
      "source": [
        "#Importing pandas\n",
        "import pandas as pd\n",
        "\n",
        "#Loading the bank.csv file\n",
        "file_path='Titanic-Dataset.csv';\n",
        "dataset = pd.read_csv(file_path)\n",
        "\n",
        "#(1).Total fare\n",
        "total_fare = dataset['Fare'].sum()\n",
        "print(\"The total fare is:\",total_fare)\n",
        "print()\n",
        "\n",
        "#(2). Total fare for all the classes\n",
        "#This results in series\n",
        "fare_by_class = dataset.groupby('Pclass')['Fare'].sum()\n",
        "\n",
        "#(4).Converting the series to a list and printing it\n",
        "fare_by_class_list = fare_by_class.tolist()\n",
        "print(fare_by_class_list)\n",
        "print()\n",
        "\n",
        "# Calculating the percentage revenue for each class\n",
        "proportion_by_class = (fare_by_class / total_fare) * 100\n",
        "\n",
        "# Results\n",
        "print(\"Each passenger class generated following percentage of the total fare revenue:\")\n",
        "print(proportion_by_class)\n",
        "\n"
      ],
      "metadata": {
        "colab": {
          "base_uri": "https://localhost:8080/"
        },
        "id": "tKEfAfRtZkFo",
        "outputId": "f6056ef8-bd54-482a-93f9-ee6c7499fa83"
      },
      "execution_count": null,
      "outputs": [
        {
          "output_type": "stream",
          "name": "stdout",
          "text": [
            "The total fare is: 28693.9493\n",
            "\n",
            "[18177.4125, 3801.8417, 6714.6951]\n",
            "\n",
            "Each passenger class generated following percentage of the total fare revenue:\n",
            "Pclass\n",
            "1    63.349288\n",
            "2    13.249629\n",
            "3    23.401084\n",
            "Name: Fare, dtype: float64\n"
          ]
        }
      ]
    },
    {
      "cell_type": "markdown",
      "source": [
        "What percent of the total number of passengers on the Titanic belonged to each age group\n",
        "(e.g., child, adult, senior)?"
      ],
      "metadata": {
        "id": "YeAsVS7kjEZW"
      }
    },
    {
      "cell_type": "code",
      "source": [
        "#Importing pandas\n",
        "import pandas as pd\n",
        "\n",
        "#(1).Loading the bank.csv file\n",
        "file_path='Titanic-Dataset.csv';\n",
        "dataset = pd.read_csv(file_path)\n",
        "\n",
        "#(1)\n",
        "# Creating a new column 'Age Group' to categorize passenger into child, adult and senior\n",
        "dataset['Age Group'] = ['child' if age < 18 else 'adult' if age < 65 else 'senior' for age in dataset['Age']]\n",
        "\n",
        "#(2)\n",
        "#Counting the total number of passengers\n",
        "total_passengers = dataset.shape[0]\n",
        "# Printing the result\n",
        "print(f\"Total number of passengers: {total_passengers}\")\n",
        "print()\n",
        "\n",
        "# (3) Grouping by 'Age Group' and counting the number of passengers in each age group\n",
        "age_group_counts = dataset.groupby('Age Group').size()\n",
        "print(\"The number of passengers in each age group is:\")\n",
        "print(age_group_counts)\n",
        "print()\n",
        "\n",
        "# (4) Calculating the proportion of passengers in each age group\n",
        "age_group_proportion = (age_group_counts / total_passengers) * 100\n",
        "print(\"The percent of the total number of passengers on the Titanic that belonged to each age group is as follows:\")\n",
        "for age_group, proportion in age_group_proportion.items():\n",
        "    print(f\"{age_group}: {proportion:.3f}%\")\n"
      ],
      "metadata": {
        "colab": {
          "base_uri": "https://localhost:8080/"
        },
        "id": "0yHw0YAXjFBp",
        "outputId": "8012002c-6242-464e-a388-8e59a1a21b2b"
      },
      "execution_count": null,
      "outputs": [
        {
          "output_type": "stream",
          "name": "stdout",
          "text": [
            "Total number of passengers: 891\n",
            "\n",
            "The number of passengers in each age group is:\n",
            "Age Group\n",
            "adult     590\n",
            "child     113\n",
            "senior    188\n",
            "dtype: int64\n",
            "\n",
            "The percent of the total number of passengers on the Titanic that belonged to each age group is as follows:\n",
            "adult: 66.218%\n",
            "child: 12.682%\n",
            "senior: 21.100%\n"
          ]
        }
      ]
    }
  ]
}