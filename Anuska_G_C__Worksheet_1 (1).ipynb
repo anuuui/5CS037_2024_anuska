{
  "nbformat": 4,
  "nbformat_minor": 0,
  "metadata": {
    "colab": {
      "provenance": []
    },
    "kernelspec": {
      "name": "python3",
      "display_name": "Python 3"
    },
    "language_info": {
      "name": "python"
    }
  },
  "cells": [
    {
      "cell_type": "markdown",
      "source": [
        "**4.1**\n",
        "\n",
        "Problem - 1: Array Creation:"
      ],
      "metadata": {
        "id": "KL6UFZkdkF7L"
      }
    },
    {
      "cell_type": "markdown",
      "source": [
        "1"
      ],
      "metadata": {
        "id": "FiCP0_AJkMSY"
      }
    },
    {
      "cell_type": "code",
      "execution_count": null,
      "metadata": {
        "colab": {
          "base_uri": "https://localhost:8080/"
        },
        "id": "EGha2-QdhsTO",
        "outputId": "c71a1be1-6a14-4635-84a6-0d03cf18c64f"
      },
      "outputs": [
        {
          "output_type": "stream",
          "name": "stdout",
          "text": [
            "[[0. 0.]\n",
            " [0. 0.]]\n"
          ]
        }
      ],
      "source": [
        "import numpy as np\n",
        "\n",
        "array = np.empty((2, 2))\n",
        "print(array)\n"
      ]
    },
    {
      "cell_type": "markdown",
      "source": [],
      "metadata": {
        "id": "UTqjegh6kFBJ"
      }
    },
    {
      "cell_type": "markdown",
      "source": [
        "2"
      ],
      "metadata": {
        "id": "KHxRe0NJkO1s"
      }
    },
    {
      "cell_type": "code",
      "source": [
        "import numpy as np\n",
        "\n",
        "array = np.ones((4, 2))\n",
        "print(array)\n"
      ],
      "metadata": {
        "colab": {
          "base_uri": "https://localhost:8080/"
        },
        "id": "u9u19ESGkPY6",
        "outputId": "10c7dabf-b222-4c06-bc60-1b7ea197aa00"
      },
      "execution_count": null,
      "outputs": [
        {
          "output_type": "stream",
          "name": "stdout",
          "text": [
            "[[1. 1.]\n",
            " [1. 1.]\n",
            " [1. 1.]\n",
            " [1. 1.]]\n"
          ]
        }
      ]
    },
    {
      "cell_type": "markdown",
      "source": [
        "3"
      ],
      "metadata": {
        "id": "2scXBF6dnek3"
      }
    },
    {
      "cell_type": "code",
      "source": [
        "import numpy as np\n",
        "\n",
        "array = np.full((3, 3), 7)\n",
        "print(array)\n"
      ],
      "metadata": {
        "colab": {
          "base_uri": "https://localhost:8080/"
        },
        "id": "Ap0RmyTynfRl",
        "outputId": "9f6dc981-7a2e-4108-f586-3fd04eaaa66b"
      },
      "execution_count": null,
      "outputs": [
        {
          "output_type": "stream",
          "name": "stdout",
          "text": [
            "[[7 7 7]\n",
            " [7 7 7]\n",
            " [7 7 7]]\n"
          ]
        }
      ]
    },
    {
      "cell_type": "markdown",
      "source": [
        "4"
      ],
      "metadata": {
        "id": "SFOjQvb6n4wy"
      }
    },
    {
      "cell_type": "code",
      "source": [
        "import numpy as np\n",
        "\n",
        "#Given array\n",
        "array = np.array([[10, 20, 30], [40, 50, 60]])\n",
        "\n",
        "\n",
        "zero_array = np.zeros_like(array)\n",
        "print(zero_array)\n"
      ],
      "metadata": {
        "colab": {
          "base_uri": "https://localhost:8080/"
        },
        "id": "CBEJ5T6-n5aO",
        "outputId": "f7e4d9cb-7eee-45bb-b3b1-d132ea8d2e5b"
      },
      "execution_count": null,
      "outputs": [
        {
          "output_type": "stream",
          "name": "stdout",
          "text": [
            "[[0 0 0]\n",
            " [0 0 0]]\n"
          ]
        }
      ]
    },
    {
      "cell_type": "markdown",
      "source": [
        "5"
      ],
      "metadata": {
        "id": "u-b6eH35oGJJ"
      }
    },
    {
      "cell_type": "code",
      "source": [
        "import numpy as np\n",
        "\n",
        "#Given array\n",
        "array = np.array([[10, 20, 30], [40, 50, 60]])\n",
        "\n",
        "ones_array = np.ones_like(array)\n",
        "print(ones_array)\n"
      ],
      "metadata": {
        "colab": {
          "base_uri": "https://localhost:8080/"
        },
        "id": "r7oJCz_hoGn1",
        "outputId": "384811bf-7a10-4686-97b2-0e100a34cac2"
      },
      "execution_count": null,
      "outputs": [
        {
          "output_type": "stream",
          "name": "stdout",
          "text": [
            "[[1 1 1]\n",
            " [1 1 1]]\n"
          ]
        }
      ]
    },
    {
      "cell_type": "markdown",
      "source": [
        "6"
      ],
      "metadata": {
        "id": "L9KgByNRodiY"
      }
    },
    {
      "cell_type": "code",
      "source": [
        "import numpy as np\n",
        "\n",
        "#The existing list\n",
        "new_list = [1, 2, 3, 4]\n",
        "\n",
        "array = np.array(new_list)\n",
        "print(array)\n"
      ],
      "metadata": {
        "colab": {
          "base_uri": "https://localhost:8080/"
        },
        "id": "iGJl5K01oeE_",
        "outputId": "194f9dd7-10d1-4845-951d-11deb4115d95"
      },
      "execution_count": null,
      "outputs": [
        {
          "output_type": "stream",
          "name": "stdout",
          "text": [
            "[1 2 3 4]\n"
          ]
        }
      ]
    },
    {
      "cell_type": "markdown",
      "source": [
        "**4.1.1 Problem - 2: Array Manipulation: Numerical Ranges and Array indexing:**"
      ],
      "metadata": {
        "id": "LrDw3YNIo_ee"
      }
    },
    {
      "cell_type": "markdown",
      "source": [
        "1"
      ],
      "metadata": {
        "id": "kA4OZJvUpBkk"
      }
    },
    {
      "cell_type": "code",
      "source": [
        "import numpy as np\n",
        "\n",
        "array = np.arange(10, 50)\n",
        "print(array)\n"
      ],
      "metadata": {
        "colab": {
          "base_uri": "https://localhost:8080/"
        },
        "id": "LQ8y40CupCDD",
        "outputId": "3325be7a-7ff2-4511-ad1e-ca3c9bc92adc"
      },
      "execution_count": null,
      "outputs": [
        {
          "output_type": "stream",
          "name": "stdout",
          "text": [
            "[10 11 12 13 14 15 16 17 18 19 20 21 22 23 24 25 26 27 28 29 30 31 32 33\n",
            " 34 35 36 37 38 39 40 41 42 43 44 45 46 47 48 49]\n"
          ]
        }
      ]
    },
    {
      "cell_type": "markdown",
      "source": [
        "2"
      ],
      "metadata": {
        "id": "2Nc8eHsepj4Q"
      }
    },
    {
      "cell_type": "code",
      "source": [
        "import numpy as np\n",
        "\n",
        "# Creating an array with values ranging from 0 to 8\n",
        "array = np.arange(9)\n",
        "\n",
        "# Reshaping it into a 3x3 matrix\n",
        "matrix = array.reshape(3, 3)\n",
        "print(matrix)\n"
      ],
      "metadata": {
        "colab": {
          "base_uri": "https://localhost:8080/"
        },
        "id": "uibfmx-upk0z",
        "outputId": "41a77707-5b54-4ec6-8a7e-d1bfd15ddc1e"
      },
      "execution_count": null,
      "outputs": [
        {
          "output_type": "stream",
          "name": "stdout",
          "text": [
            "[[0 1 2]\n",
            " [3 4 5]\n",
            " [6 7 8]]\n"
          ]
        }
      ]
    },
    {
      "cell_type": "markdown",
      "source": [
        "3"
      ],
      "metadata": {
        "id": "60rbBax2q-QL"
      }
    },
    {
      "cell_type": "code",
      "source": [
        "import numpy as np\n",
        "\n",
        "# Create a 3x3 identity matrix\n",
        "identity_matrix = np.eye(3)\n",
        "print(identity_matrix)\n"
      ],
      "metadata": {
        "colab": {
          "base_uri": "https://localhost:8080/"
        },
        "id": "rIk5397oq-0b",
        "outputId": "d214f79e-4248-483c-f649-8713902d4a41"
      },
      "execution_count": null,
      "outputs": [
        {
          "output_type": "stream",
          "name": "stdout",
          "text": [
            "[[1. 0. 0.]\n",
            " [0. 1. 0.]\n",
            " [0. 0. 1.]]\n"
          ]
        }
      ]
    },
    {
      "cell_type": "markdown",
      "source": [
        "4"
      ],
      "metadata": {
        "id": "eS25jN9EuTU_"
      }
    },
    {
      "cell_type": "code",
      "source": [
        "import numpy as np\n",
        "\n",
        "# Creating a random array of size 30\n",
        "array = np.random.random(30)\n",
        "\n",
        "# Calculating the mean of the array\n",
        "mean = array.mean()\n",
        "\n",
        "# print(\"Random Array:\", array)\n",
        "print(\"Mean of the array:\", mean)\n"
      ],
      "metadata": {
        "colab": {
          "base_uri": "https://localhost:8080/"
        },
        "id": "f6cu2HG0uTvt",
        "outputId": "5335286d-4a0b-4d46-c960-38ec0b981f82"
      },
      "execution_count": null,
      "outputs": [
        {
          "output_type": "stream",
          "name": "stdout",
          "text": [
            "Mean of the array: 0.4585107463518365\n"
          ]
        }
      ]
    },
    {
      "cell_type": "markdown",
      "source": [
        "5"
      ],
      "metadata": {
        "id": "IcOB4JOTy3mq"
      }
    },
    {
      "cell_type": "code",
      "source": [
        "import numpy as np\n",
        "\n",
        "# Creating a random 10x10 array\n",
        "array = np.random.random((10, 10))\n",
        "\n",
        "# Minimum and maximum values\n",
        "min_value = array.min()\n",
        "max_value = array.max()\n",
        "\n",
        "print(\"Random 10x10 Array:\")\n",
        "print(array)\n",
        "print(\"\\nMinimum value:\", min_value)\n",
        "print(\"Maximum value:\", max_value)\n"
      ],
      "metadata": {
        "colab": {
          "base_uri": "https://localhost:8080/"
        },
        "id": "I322MSmzy4Uw",
        "outputId": "6acb916e-f07d-4b3c-ed70-2909a7e9bffe"
      },
      "execution_count": null,
      "outputs": [
        {
          "output_type": "stream",
          "name": "stdout",
          "text": [
            "Random 10x10 Array:\n",
            "[[6.28523806e-01 4.37233461e-01 4.81836334e-01 3.69945504e-01\n",
            "  7.02378018e-02 8.45501990e-01 7.37532166e-01 7.31170906e-01\n",
            "  8.81542590e-01 6.32434109e-01]\n",
            " [3.03824594e-01 4.02260199e-01 7.77312069e-01 4.11574521e-01\n",
            "  2.02748059e-01 9.97293934e-02 1.35102560e-01 7.62520736e-01\n",
            "  5.84292765e-01 9.52177937e-02]\n",
            " [2.99027941e-01 1.85389923e-01 7.96440085e-01 7.19862399e-01\n",
            "  2.28016240e-01 2.34971862e-01 9.99402587e-01 7.19116119e-01\n",
            "  1.58806014e-01 5.85509551e-01]\n",
            " [4.21689687e-02 4.69627550e-01 8.66143120e-01 4.72313648e-01\n",
            "  4.98745420e-01 3.37335088e-01 6.80625016e-01 9.73088567e-01\n",
            "  5.54656154e-01 3.52006270e-01]\n",
            " [7.15548194e-01 1.72245055e-01 7.39733517e-01 2.74500114e-01\n",
            "  5.37264727e-01 9.65339718e-01 7.39627040e-01 5.71311630e-01\n",
            "  4.16379092e-01 2.88018675e-02]\n",
            " [2.64094148e-01 3.85442495e-06 3.93269548e-02 5.18848510e-01\n",
            "  7.89764748e-01 2.17022871e-01 1.70658461e-01 6.54851969e-01\n",
            "  2.68901288e-01 9.46209249e-01]\n",
            " [2.99368840e-01 7.55164513e-01 7.40564248e-01 2.48522531e-01\n",
            "  6.59281068e-01 9.98521299e-01 4.35097351e-01 1.89650031e-01\n",
            "  2.60539157e-01 8.16134132e-01]\n",
            " [2.60260768e-01 1.18617890e-01 9.08318582e-01 2.59009560e-01\n",
            "  3.94859732e-01 4.13975857e-01 5.84682462e-01 2.42018525e-01\n",
            "  3.17053228e-01 4.51687241e-01]\n",
            " [2.67842486e-01 7.33751386e-01 3.30719356e-01 6.32258452e-01\n",
            "  4.14762930e-01 2.73307843e-01 2.96489224e-01 6.10713893e-02\n",
            "  1.84009269e-01 2.73409059e-01]\n",
            " [9.17354176e-01 9.06977857e-01 7.27730601e-01 7.15306983e-01\n",
            "  5.10433878e-01 6.40431452e-01 4.31596685e-01 4.95223760e-01\n",
            "  1.19381495e-01 4.76579882e-01]]\n",
            "\n",
            "Minimum value: 3.854424947657975e-06\n",
            "Maximum value: 0.9994025873115628\n"
          ]
        }
      ]
    },
    {
      "cell_type": "markdown",
      "source": [
        "6"
      ],
      "metadata": {
        "id": "niQMWlONzjPF"
      }
    },
    {
      "cell_type": "code",
      "source": [
        "import numpy as np\n",
        "\n",
        "# Creating a zero array of size 10\n",
        "array = np.zeros(10)\n",
        "\n",
        "# Replacing the 5th element (index 4) with 1\n",
        "array[4] = 1\n",
        "\n",
        "print(array)\n"
      ],
      "metadata": {
        "colab": {
          "base_uri": "https://localhost:8080/"
        },
        "id": "PH2mKNB8zj1J",
        "outputId": "79832c9f-fe67-4477-88fe-98ee0ed018d1"
      },
      "execution_count": null,
      "outputs": [
        {
          "output_type": "stream",
          "name": "stdout",
          "text": [
            "[0. 0. 0. 0. 1. 0. 0. 0. 0. 0.]\n"
          ]
        }
      ]
    },
    {
      "cell_type": "markdown",
      "source": [
        "7\n"
      ],
      "metadata": {
        "id": "rR9Nt6kmzq_u"
      }
    },
    {
      "cell_type": "code",
      "source": [
        "array = [1, 2, 0, 0, 4, 0]\n",
        "\n",
        "# Reversing\n",
        "reversed = array[::-1]\n",
        "\n",
        "print(reversed)\n"
      ],
      "metadata": {
        "colab": {
          "base_uri": "https://localhost:8080/"
        },
        "id": "-roC4E48zrv2",
        "outputId": "59cf0b5d-ad0f-4dc9-bbb7-483339f1946c"
      },
      "execution_count": null,
      "outputs": [
        {
          "output_type": "stream",
          "name": "stdout",
          "text": [
            "[0, 4, 0, 0, 2, 1]\n"
          ]
        }
      ]
    },
    {
      "cell_type": "markdown",
      "source": [
        "8"
      ],
      "metadata": {
        "id": "YwlKdHsF0dnx"
      }
    },
    {
      "cell_type": "code",
      "source": [
        "import numpy as np\n",
        "\n",
        "# Define the size of the array (e.g., 5x5)\n",
        "size = 4\n",
        "\n",
        "# Create a 2D array of zeros\n",
        "array = np.zeros((size, size), dtype=int)\n",
        "\n",
        "# Set the border elements to 1\n",
        "array[0, :] = 1  # Top border\n",
        "array[-1, :] = 1  # Bottom border\n",
        "array[:, 0] = 1  # Left border\n",
        "array[:, -1] = 1  # Right border\n",
        "\n",
        "print(array)\n"
      ],
      "metadata": {
        "colab": {
          "base_uri": "https://localhost:8080/"
        },
        "id": "kNgqMICV0eSN",
        "outputId": "eef8a09f-9d0c-4cb3-b4e7-b309c9c263c2"
      },
      "execution_count": null,
      "outputs": [
        {
          "output_type": "stream",
          "name": "stdout",
          "text": [
            "[[1 1 1 1]\n",
            " [1 0 0 1]\n",
            " [1 0 0 1]\n",
            " [1 1 1 1]]\n"
          ]
        }
      ]
    },
    {
      "cell_type": "markdown",
      "source": [
        "9"
      ],
      "metadata": {
        "id": "zkvyK9EW2U4A"
      }
    },
    {
      "cell_type": "code",
      "source": [
        "import numpy as np\n",
        "\n",
        "# Creating an 8x8 matrix of zeros\n",
        "matrix = np.zeros((8, 8), dtype=int)\n",
        "\n",
        "# Filling the matrix with a checkerboard pattern\n",
        "matrix[::2, ::2] = 1  # Set 1's on even rows and columns\n",
        "matrix[1::2, 1::2] = 1  # Set 1's on odd rows and columns\n",
        "\n",
        "print(matrix)\n"
      ],
      "metadata": {
        "colab": {
          "base_uri": "https://localhost:8080/"
        },
        "id": "Aayk9XA62Vev",
        "outputId": "a2b657b2-743a-4758-b81a-02efbbb2e580"
      },
      "execution_count": null,
      "outputs": [
        {
          "output_type": "stream",
          "name": "stdout",
          "text": [
            "[[1 0 1 0 1 0 1 0]\n",
            " [0 1 0 1 0 1 0 1]\n",
            " [1 0 1 0 1 0 1 0]\n",
            " [0 1 0 1 0 1 0 1]\n",
            " [1 0 1 0 1 0 1 0]\n",
            " [0 1 0 1 0 1 0 1]\n",
            " [1 0 1 0 1 0 1 0]\n",
            " [0 1 0 1 0 1 0 1]]\n"
          ]
        }
      ]
    },
    {
      "cell_type": "markdown",
      "source": [
        "Problem - 3: Array Operations:\n",
        "For the following arrays:\n",
        "\n",
        "x = np.array([[1,2],[3,5]]) and y = np.array([[5,6],[7,8]]);\n",
        "\n",
        "v = np.array([9,10]) and w = np.array([11,12]);\n",
        "\n",
        "Complete all the task using numpy:"
      ],
      "metadata": {
        "id": "1ezPOiW22eM0"
      }
    },
    {
      "cell_type": "markdown",
      "source": [
        "1"
      ],
      "metadata": {
        "id": "yVd7E1022k97"
      }
    },
    {
      "cell_type": "code",
      "source": [
        "import numpy as np\n",
        "\n",
        "# Array\n",
        "x = np.array([[1, 2], [3, 5]])\n",
        "y = np.array([[5, 6], [7, 8]])\n",
        "\n",
        "v = np.array([9,10])\n",
        "w = np.array([11,12]);\n",
        "\n",
        "# Add the two arrays\n",
        "sum = x + y\n",
        "sum_1 = v+w\n",
        "\n",
        "\n",
        "print(\"Sum of x and y:\")\n",
        "print(sum)\n",
        "print()\n",
        "print(\"Sum of v and w:\")\n",
        "print(sum_1)\n"
      ],
      "metadata": {
        "colab": {
          "base_uri": "https://localhost:8080/"
        },
        "id": "nr7v0RS62lj1",
        "outputId": "a2966221-a089-49fa-ccd7-44fc9d47592c"
      },
      "execution_count": null,
      "outputs": [
        {
          "output_type": "stream",
          "name": "stdout",
          "text": [
            "Sum of x and y:\n",
            "[[ 6  8]\n",
            " [10 13]]\n",
            "\n",
            "Sum of v and w:\n",
            "[20 22]\n"
          ]
        }
      ]
    },
    {
      "cell_type": "markdown",
      "source": [
        "2"
      ],
      "metadata": {
        "id": "Ls9GcmNX2xle"
      }
    },
    {
      "cell_type": "code",
      "source": [
        "import numpy as np\n",
        "\n",
        "# Array\n",
        "x = np.array([[1, 2], [3, 5]])\n",
        "y = np.array([[5, 6], [7, 8]])\n",
        "\n",
        "v = np.array([9,10])\n",
        "w = np.array([11,12]);\n",
        "\n",
        "# Subtracting the two arrays\n",
        "diff = y - x\n",
        "diff_1 = w - v\n",
        "\n",
        "print(\"Difference of x and y:\")\n",
        "print(diff)\n",
        "print()\n",
        "print(\"Difference of w and v:\")\n",
        "print(diff_1)\n"
      ],
      "metadata": {
        "colab": {
          "base_uri": "https://localhost:8080/"
        },
        "id": "lLQC7oh92yKo",
        "outputId": "175c9d9e-9ffa-437c-f132-9b455e94fb8b"
      },
      "execution_count": null,
      "outputs": [
        {
          "output_type": "stream",
          "name": "stdout",
          "text": [
            "Difference of x and y:\n",
            "[[4 4]\n",
            " [4 3]]\n",
            "\n",
            "Difference of w and v:\n",
            "[2 2]\n"
          ]
        }
      ]
    },
    {
      "cell_type": "markdown",
      "source": [
        "3"
      ],
      "metadata": {
        "id": "fmz0Sl7F32t5"
      }
    },
    {
      "cell_type": "code",
      "source": [
        "import numpy as np\n",
        "\n",
        "# Array\n",
        "x = np.array([[1, 2], [3, 5]])\n",
        "y = np.array([[5, 6], [7, 8]])\n",
        "\n",
        "v = np.array([9,10])\n",
        "w = np.array([11,12]);\n",
        "\n",
        "X=x*2;\n",
        "Y=y*3\n",
        "V=v*4\n",
        "W=w*5;\n",
        "\n",
        "print(\"Array x multiplied by 2:\")\n",
        "print(X)\n",
        "print(\"Array y multiplied by 3:\")\n",
        "print(Y)\n",
        "print(\"Array v multiplied by 4:\")\n",
        "print(V)\n",
        "print(\"Array w multiplied by 5:\")\n",
        "print(W)"
      ],
      "metadata": {
        "colab": {
          "base_uri": "https://localhost:8080/"
        },
        "id": "boXdpoe-33K8",
        "outputId": "29a21020-9c97-49fb-b5e2-045f947d10df"
      },
      "execution_count": null,
      "outputs": [
        {
          "output_type": "stream",
          "name": "stdout",
          "text": [
            "Array x multiplied by 2:\n",
            "[[ 2  4]\n",
            " [ 6 10]]\n",
            "Array y multiplied by 3:\n",
            "[[15 18]\n",
            " [21 24]]\n",
            "Array v multiplied by 4:\n",
            "[36 40]\n",
            "Array w multiplied by 5:\n",
            "[55 60]\n"
          ]
        }
      ]
    },
    {
      "cell_type": "markdown",
      "source": [
        "4"
      ],
      "metadata": {
        "id": "7ijqRkZK4ecU"
      }
    },
    {
      "cell_type": "code",
      "source": [
        "import numpy as np\n",
        "\n",
        "# Array\n",
        "x = np.array([[1, 2], [3, 5]])\n",
        "y = np.array([[5, 6], [7, 8]])\n",
        "\n",
        "v = np.array([9,10])\n",
        "w = np.array([11,12]);\n",
        "\n",
        "X=x**2;\n",
        "Y=y**2;\n",
        "V=v**2;\n",
        "W=w**2;\n",
        "\n",
        "print(\"Array x squared:\")\n",
        "print(X)\n",
        "print(\"Array y squared:\")\n",
        "print(Y)\n",
        "print(\"Array V squared:\")\n",
        "print(V)\n",
        "print(\"Array W squared:\")\n",
        "print(W)"
      ],
      "metadata": {
        "colab": {
          "base_uri": "https://localhost:8080/"
        },
        "id": "JUhEpLLB4fcD",
        "outputId": "c8b38cd3-5fc5-46e5-cd00-16b8ad9b5efb"
      },
      "execution_count": null,
      "outputs": [
        {
          "output_type": "stream",
          "name": "stdout",
          "text": [
            "Array x squared:\n",
            "[[ 1  4]\n",
            " [ 9 25]]\n",
            "Array y squared:\n",
            "[[25 36]\n",
            " [49 64]]\n",
            "Array V squared:\n",
            "[ 81 100]\n",
            "Array W squared:\n",
            "[121 144]\n"
          ]
        }
      ]
    },
    {
      "cell_type": "markdown",
      "source": [
        "5"
      ],
      "metadata": {
        "id": "AcePLkEX4ypH"
      }
    },
    {
      "cell_type": "code",
      "source": [
        "import numpy as np\n",
        "\n",
        "# Define the arrays\n",
        "x = np.array([[1, 2], [3, 5]])\n",
        "y = np.array([[5, 6], [7, 8]])\n",
        "v = np.array([9, 10])\n",
        "w = np.array([11, 12])\n",
        "\n",
        "# Compute the dot product of v and w\n",
        "v_dot_w = np.dot(v, w)\n",
        "\n",
        "# Compute the dot product of x and v\n",
        "x_dot_v = np.dot(x, v)\n",
        "\n",
        "# Compute the dot product of x and y\n",
        "x_dot_y = np.dot(x, y)\n",
        "\n",
        "# Print the results\n",
        "print(\"Dot product of v and w:\", v_dot_w)\n",
        "print(\"Dot product of x and v:\", x_dot_v)\n",
        "print(\"Dot product of x and y:\", x_dot_y)\n"
      ],
      "metadata": {
        "colab": {
          "base_uri": "https://localhost:8080/"
        },
        "id": "F_mt_8jH4y7g",
        "outputId": "1b84ba65-b916-43b5-9c9c-fdf16e958f22"
      },
      "execution_count": null,
      "outputs": [
        {
          "output_type": "stream",
          "name": "stdout",
          "text": [
            "Dot product of v and w: 219\n",
            "Dot product of x and v: [29 77]\n",
            "Dot product of x and y: [[19 22]\n",
            " [50 58]]\n"
          ]
        }
      ]
    },
    {
      "cell_type": "markdown",
      "source": [
        "6"
      ],
      "metadata": {
        "id": "JVnokL5XFo2z"
      }
    },
    {
      "cell_type": "code",
      "source": [
        "import numpy as np\n",
        "\n",
        "# Arrays\n",
        "x = np.array([[1, 2], [3, 5]])\n",
        "y = np.array([[5, 6], [7, 8]])\n",
        "v = np.array([9, 10])\n",
        "w = np.array([11, 12])\n",
        "\n",
        "# Stack x and y along rows using np.vstack()\n",
        "x_and_y_row = np.vstack((x, y))\n",
        "\n",
        "# Stack v and w along columns using np.vstack() after reshaping\n",
        "v_and_w_column = np.vstack((v, w)).T  # Transpose to make it column-wise\n",
        "\n",
        "# Print the results\n",
        "print(\"Stacked x and y along rows using np.vstack():\")\n",
        "print(x_and_y_row)\n",
        "\n",
        "print(\"\\nStacked v and w along columns using np.vstack():\")\n",
        "print(v_and_w_column)\n"
      ],
      "metadata": {
        "colab": {
          "base_uri": "https://localhost:8080/"
        },
        "id": "74dB0of7FpS-",
        "outputId": "680a1269-3937-465f-84ce-5d81dda94cd0"
      },
      "execution_count": null,
      "outputs": [
        {
          "output_type": "stream",
          "name": "stdout",
          "text": [
            "Stacked x and y along rows using np.vstack():\n",
            "[[1 2]\n",
            " [3 5]\n",
            " [5 6]\n",
            " [7 8]]\n",
            "\n",
            "Stacked v and w along columns using np.vstack():\n",
            "[[ 9 11]\n",
            " [10 12]]\n"
          ]
        }
      ]
    },
    {
      "cell_type": "markdown",
      "source": [
        "7"
      ],
      "metadata": {
        "id": "O7Ry4tLuGQmt"
      }
    },
    {
      "cell_type": "code",
      "source": [
        "import numpy as np\n",
        "\n",
        "# Arrays\n",
        "x = np.array([[1, 2], [3, 5]])  # 2D array (2x2)\n",
        "v = np.array([9, 10])           # 1D array (1x2)\n",
        "\n",
        "# Concatenating\n",
        "try:\n",
        "    result = np.concatenate((x, v), axis=0)  # Concatenate along axis 0 (rows)\n",
        "    print(\"Concatenated array:\")\n",
        "    print(result)\n",
        "except ValueError as e:\n",
        "    print(\"Error:\")\n",
        "    print(e)\n"
      ],
      "metadata": {
        "colab": {
          "base_uri": "https://localhost:8080/"
        },
        "id": "b7SymZlOGRCi",
        "outputId": "34fca3b4-eef5-4fdd-aeca-9e52f3853134"
      },
      "execution_count": null,
      "outputs": [
        {
          "output_type": "stream",
          "name": "stdout",
          "text": [
            "Error:\n",
            "all the input arrays must have same number of dimensions, but the array at index 0 has 2 dimension(s) and the array at index 1 has 1 dimension(s)\n"
          ]
        }
      ]
    },
    {
      "cell_type": "markdown",
      "source": [
        "**Problem - 4: Matrix Operations:**"
      ],
      "metadata": {
        "id": "xqeti3NbGh68"
      }
    },
    {
      "cell_type": "markdown",
      "source": [
        "1"
      ],
      "metadata": {
        "id": "bAG_x-0ZGi_g"
      }
    },
    {
      "cell_type": "code",
      "source": [
        "import numpy as np\n",
        "\n",
        "# Define matrices\n",
        "A = np.array([[3, 4], [7, 8]])\n",
        "B = np.array([[5, 3], [2, 1]])\n",
        "\n",
        "# 1. Prove A * A^-1 = I\n",
        "A_inv = np.linalg.inv(A)\n",
        "I = np.dot(A, A_inv)\n",
        "print(\"1. A * A^-1 = I:\")\n",
        "print(np.round(I))  # Rounded to avoid small numerical inaccuracies\n",
        "print(\"Therefore, A*A^-1 = I proved.\")\n",
        "\n",
        "# 2. Prove AB != BA\n",
        "AB = np.dot(A, B)\n",
        "BA = np.dot(B, A)\n",
        "print(\"\\n2. AB and BA:\")\n",
        "print(\"AB:\\n\", AB)\n",
        "print(\"BA:\\n\", BA)\n",
        "print(\"Therefore, AB !=BA proved.\")\n",
        "\n",
        "# 3. Prove (AB)^T = B^T * A^T\n",
        "AB_T = np.transpose(AB)\n",
        "BT_AT = np.dot(B.T, A.T)\n",
        "print(\"\\n3. (AB)^T and B^T * A^T:\")\n",
        "print(\"(AB)^T:\\n\", AB_T)\n",
        "print(\"B^T * A^T:\\n\", BT_AT)\n",
        "print(\"Therefore, (AB)^T = B^T * A^T proved.\")\n"
      ],
      "metadata": {
        "colab": {
          "base_uri": "https://localhost:8080/"
        },
        "id": "tOR3__zBGjl3",
        "outputId": "0ea8cbc9-35d0-429e-a6f8-8e91427d548f"
      },
      "execution_count": null,
      "outputs": [
        {
          "output_type": "stream",
          "name": "stdout",
          "text": [
            "1. A * A^-1 = I:\n",
            "[[1. 0.]\n",
            " [0. 1.]]\n",
            "Therefore, A*A^-1 = I proved.\n",
            "\n",
            "2. AB and BA:\n",
            "AB:\n",
            " [[23 13]\n",
            " [51 29]]\n",
            "BA:\n",
            " [[36 44]\n",
            " [13 16]]\n",
            "Therefore, AB !=BA proved.\n",
            "\n",
            "3. (AB)^T and B^T * A^T:\n",
            "(AB)^T:\n",
            " [[23 51]\n",
            " [13 29]]\n",
            "B^T * A^T:\n",
            " [[23 51]\n",
            " [13 29]]\n",
            "Therefore, (AB)^T = B^T * A^T proved.\n"
          ]
        }
      ]
    },
    {
      "cell_type": "markdown",
      "source": [
        "2"
      ],
      "metadata": {
        "id": "0NFEQWVVJJrs"
      }
    },
    {
      "cell_type": "code",
      "source": [
        "import numpy as np\n",
        "\n",
        "# Coefficient matrix A\n",
        "A = np.array([[2, -3, 1],\n",
        "              [1, -1, 2],\n",
        "              [3,  1, -1]])\n",
        "\n",
        "# Constant matrix B\n",
        "B = np.array([-1, -3, 9])\n",
        "\n",
        "# Solve for X using the inverse method\n",
        "A_inv = np.linalg.inv(A)  # Compute the inverse of A\n",
        "X = np.dot(A_inv, B)      # Multiply A^-1 with B\n",
        "\n",
        "# Print the solution\n",
        "print(\"Solution (x, y, z):\")\n",
        "print(X)\n"
      ],
      "metadata": {
        "id": "OYMuWMAuJKvG",
        "outputId": "997602b5-ca73-431b-f177-e0cdd6f55b63",
        "colab": {
          "base_uri": "https://localhost:8080/"
        }
      },
      "execution_count": null,
      "outputs": [
        {
          "output_type": "stream",
          "name": "stdout",
          "text": [
            "Solution (x, y, z):\n",
            "[ 2.  1. -2.]\n"
          ]
        }
      ]
    },
    {
      "cell_type": "markdown",
      "source": [],
      "metadata": {
        "id": "oR6oAoqVRuhP"
      }
    },
    {
      "cell_type": "markdown",
      "source": [
        "**4.2 Experiment: How Fast is Numpy?**"
      ],
      "metadata": {
        "id": "XJIFb3c_Sz0-"
      }
    },
    {
      "cell_type": "markdown",
      "source": [
        "1. Element-wise Addition:"
      ],
      "metadata": {
        "id": "nqEI0d10S1-9"
      }
    },
    {
      "cell_type": "code",
      "source": [
        "# Import necessary libraries\n",
        "import time\n",
        "import numpy as np\n",
        "\n",
        "# Element-wise addition using Python lists\n",
        "# Create two Python lists of size 1,000,000\n",
        "list1 = [i for i in range(1_000_000)]\n",
        "list2 = [i for i in range(1_000_000)]\n",
        "\n",
        "# Measure time for element-wise addition\n",
        "start_time_list = time.time()\n",
        "list_result = [list1[i] + list2[i] for i in range(len(list1))]\n",
        "time_taken_list = time.time() - start_time_list\n",
        "\n",
        "# Element-wise addition using NumPy arrays\n",
        "# Create two NumPy arrays of size 1,000,000\n",
        "array1 = np.arange(1_000_000)\n",
        "array2 = np.arange(1_000_000)\n",
        "\n",
        "# Measure time for element-wise addition\n",
        "start_time_array = time.time()\n",
        "array_result = array1 + array2\n",
        "time_taken_array = time.time() - start_time_array\n",
        "\n",
        "# Print results\n",
        "print(f\"Time taken using Python lists: {time_taken_list:.6f} seconds\")\n",
        "print(f\"Time taken using NumPy arrays: {time_taken_array:.6f} seconds\")\n"
      ],
      "metadata": {
        "colab": {
          "base_uri": "https://localhost:8080/"
        },
        "id": "NYUc121lS4xC",
        "outputId": "bb47dc91-7124-441d-ccc9-6964ab55c9bb"
      },
      "execution_count": 1,
      "outputs": [
        {
          "output_type": "stream",
          "name": "stdout",
          "text": [
            "Time taken using Python lists: 0.193609 seconds\n",
            "Time taken using NumPy arrays: 0.006929 seconds\n"
          ]
        }
      ]
    },
    {
      "cell_type": "markdown",
      "source": [
        "**2. Element-wise Multiplication**"
      ],
      "metadata": {
        "id": "rK9zkfASTYZ_"
      }
    },
    {
      "cell_type": "code",
      "source": [
        "# Import necessary libraries\n",
        "import time\n",
        "import numpy as np\n",
        "\n",
        "# Create Python lists of size 1,000,000\n",
        "list1 = [i for i in range(1_000_000)]\n",
        "list2 = [i for i in range(1_000_000)]\n",
        "\n",
        "# Measure time for element-wise multiplication using Python lists\n",
        "start_time_list_mult = time.time()\n",
        "list_result_mult = [list1[i] * list2[i] for i in range(len(list1))]\n",
        "time_taken_list_mult = time.time() - start_time_list_mult\n",
        "\n",
        "# Create NumPy arrays of size 1,000,000\n",
        "array1 = np.arange(1_000_000)\n",
        "array2 = np.arange(1_000_000)\n",
        "\n",
        "# Measure time for element-wise multiplication using NumPy arrays\n",
        "start_time_array_mult = time.time()\n",
        "array_result_mult = array1 * array2\n",
        "time_taken_array_mult = time.time() - start_time_array_mult\n",
        "\n",
        "# Print results\n",
        "print(f\"Time taken for element-wise multiplication using Python lists: {time_taken_list_mult:.6f} seconds\")\n",
        "print(f\"Time taken for element-wise multiplication using NumPy arrays: {time_taken_array_mult:.6f} seconds\")\n"
      ],
      "metadata": {
        "id": "kzKdRHjnTY7d"
      },
      "execution_count": null,
      "outputs": []
    },
    {
      "cell_type": "markdown",
      "source": [
        "**3.Dot Product**"
      ],
      "metadata": {
        "id": "CX-D2EgdUCAC"
      }
    },
    {
      "cell_type": "code",
      "source": [
        "# Import necessary libraries\n",
        "import time\n",
        "import numpy as np\n",
        "\n",
        "# Create Python lists of size 1,000,000\n",
        "list1 = [i for i in range(1_000_000)]\n",
        "list2 = [i for i in range(1_000_000)]\n",
        "\n",
        "# Measure time for dot product using Python lists\n",
        "start_time_list_dot = time.time()\n",
        "dot_product_list = sum(list1[i] * list2[i] for i in range(len(list1)))\n",
        "time_taken_list_dot = time.time() - start_time_list_dot\n",
        "\n",
        "# Create NumPy arrays of size 1,000,000\n",
        "array1 = np.arange(1_000_000)\n",
        "array2 = np.arange(1_000_000)\n",
        "\n",
        "# Measure time for dot product using NumPy arrays\n",
        "start_time_array_dot = time.time()\n",
        "dot_product_array = np.dot(array1, array2)\n",
        "time_taken_array_dot = time.time() - start_time_array_dot\n",
        "\n",
        "# Print results\n",
        "print(f\"Time taken for dot product using Python lists: {time_taken_list_dot:.6f} seconds\")\n",
        "print(f\"Time taken for dot product using NumPy arrays: {time_taken_array_dot:.6f} seconds\")\n"
      ],
      "metadata": {
        "id": "MYYf0FAcUCWd"
      },
      "execution_count": null,
      "outputs": []
    },
    {
      "cell_type": "markdown",
      "source": [
        "**4. Matrix Multiplication**"
      ],
      "metadata": {
        "id": "9oR5fj-VUGGH"
      }
    },
    {
      "cell_type": "code",
      "source": [
        "# Import necessary libraries\n",
        "import time\n",
        "import numpy as np\n",
        "\n",
        "# Create two 1000x1000 matrices using Python lists\n",
        "matrix1_list = [[i + j for j in range(1000)] for i in range(1000)]\n",
        "matrix2_list = [[i + j for j in range(1000)] for i in range(1000)]\n",
        "\n",
        "# Measure time for matrix multiplication using Python lists\n",
        "start_time_list_mult = time.time()\n",
        "result_list = [[sum(matrix1_list[i][k] * matrix2_list[k][j] for k in range(1000))\n",
        "                for j in range(1000)] for i in range(1000)]\n",
        "time_taken_list_mult = time.time() - start_time_list_mult\n",
        "\n",
        "# Create two 1000x1000 matrices using NumPy arrays\n",
        "matrix1_array = np.random.rand(1000, 1000)\n",
        "matrix2_array = np.random.rand(1000, 1000)\n",
        "\n",
        "# Measure time for matrix multiplication using NumPy arrays\n",
        "start_time_array_mult = time.time()\n",
        "result_array = np.dot(matrix1_array, matrix2_array)\n",
        "time_taken_array_mult = time.time() - start_time_array_mult\n",
        "\n",
        "# Print results\n",
        "print(f\"Time taken for matrix multiplication using Python lists: {time_taken_list_mult:.6f} seconds\")\n",
        "print(f\"Time taken for matrix multiplication using NumPy arrays: {time_taken_array_mult:.6f} seconds\")\n"
      ],
      "metadata": {
        "colab": {
          "base_uri": "https://localhost:8080/"
        },
        "id": "2WLc5xeqUICt",
        "outputId": "30c18ea6-add7-4875-be57-4ec52ca42f86"
      },
      "execution_count": 2,
      "outputs": [
        {
          "output_type": "stream",
          "name": "stdout",
          "text": [
            "Time taken for matrix multiplication using Python lists: 259.032693 seconds\n",
            "Time taken for matrix multiplication using NumPy arrays: 0.077256 seconds\n"
          ]
        }
      ]
    }
  ]
}