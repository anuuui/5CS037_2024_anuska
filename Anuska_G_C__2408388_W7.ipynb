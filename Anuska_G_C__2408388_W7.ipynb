{
  "nbformat": 4,
  "nbformat_minor": 0,
  "metadata": {
    "colab": {
      "provenance": []
    },
    "kernelspec": {
      "name": "python3",
      "display_name": "Python 3"
    },
    "language_info": {
      "name": "python"
    }
  },
  "cells": [
    {
      "cell_type": "code",
      "execution_count": 1,
      "metadata": {
        "colab": {
          "base_uri": "https://localhost:8080/"
        },
        "id": "JafQdt05PExy",
        "outputId": "530800e4-d647-49d9-ec6a-309109c5932e"
      },
      "outputs": [
        {
          "output_type": "stream",
          "name": "stdout",
          "text": [
            "Pregnancies                 0\n",
            "Glucose                     0\n",
            "BloodPressure               0\n",
            "SkinThickness               0\n",
            "Insulin                     0\n",
            "BMI                         0\n",
            "DiabetesPedigreeFunction    0\n",
            "Age                         0\n",
            "Outcome                     0\n",
            "dtype: int64\n",
            "Mean Squared Error: 408.8020357692283\n",
            "R² Score: 0.182134664007779\n",
            "Model Coefficients: [ 0.1412139   0.03647842  0.18827232 -0.00406218  0.43475451 -0.85708441\n",
            "  0.37083152]\n",
            "Model Intercept: 35.262615074374764\n"
          ]
        }
      ],
      "source": [
        "import sklearn\n",
        "import pandas as pd\n",
        "from sklearn.model_selection import train_test_split\n",
        "from sklearn.linear_model import LinearRegression\n",
        "from sklearn.metrics import mean_squared_error, r2_score\n",
        "# sklearn . show_versions ()\n",
        "data = pd.read_csv('diabetes.csv')\n",
        "print(data.isnull().sum())\n",
        "\n",
        "X = data.drop(columns=['BloodPressure', 'Outcome'])  # Exclude BloodPressure and Outcome from predictors\n",
        "y = data['BloodPressure']\n",
        "\n",
        "# Step 4: Train-test split\n",
        "X_train, X_test, y_train, y_test = train_test_split(X, y, test_size=0.2, random_state=42)\n",
        "\n",
        "# Step 5: Train the model\n",
        "model = LinearRegression()\n",
        "model.fit(X_train, y_train)\n",
        "\n",
        "# Step 6: Make predictions\n",
        "y_pred = model.predict(X_test)\n",
        "\n",
        "# Step 7: Evaluate the model\n",
        "mse = mean_squared_error(y_test, y_pred)\n",
        "r2 = r2_score(y_test, y_pred)\n",
        "\n",
        "print(f\"Mean Squared Error: {mse}\")\n",
        "print(f\"R² Score: {r2}\")\n",
        "\n",
        "# Optional: Print the coefficients and intercept\n",
        "print(\"Model Coefficients:\", model.coef_)\n",
        "print(\"Model Intercept:\", model.intercept_)"
      ]
    },
    {
      "cell_type": "code",
      "source": [
        "# Step 1: Importing necessary libraries\n",
        "import pandas as pd\n",
        "from sklearn.model_selection import train_test_split\n",
        "from sklearn.linear_model import LinearRegression\n",
        "from sklearn.neighbors import KNeighborsClassifier\n",
        "from sklearn.metrics import mean_squared_error, r2_score,mean_absolute_error\n",
        "from matplotlib import pyplot as plt\n",
        "import numpy as np\n",
        "\n",
        "# Step 2: Loading the dataset\n",
        "data = pd.read_csv('diabetes.csv')\n",
        "\n",
        "#Checking if there are any missing values\n",
        "print(data.isnull().sum())\n",
        "print()\n",
        "print(\"There are no missing values.\")\n",
        "\n",
        "# Regression Task: Predict BloodPressure\n",
        "print(\"\\n Regression Task: Predict BloodPressure\")\n",
        "print()\n",
        "# Define features (X) and target (y) for regression\n",
        "X_regression = data.drop(columns=['BloodPressure', 'Outcome'])  # Exclude BloodPressure and Outcome\n",
        "y_regression = data['BloodPressure']\n",
        "\n",
        "# Train-test split for regression\n",
        "X_train_reg, X_test_reg, y_train_reg, y_test_reg = train_test_split(X_regression, y_regression, test_size=0.3, random_state=42)\n",
        "\n",
        "\n",
        "# Training Linear Regression model\n",
        "reg_model = LinearRegression()\n",
        "reg_model.fit(X_train_reg, y_train_reg)\n",
        "\n",
        "# Making predictions\n",
        "y_pred_reg = reg_model.predict(X_test_reg)\n",
        "\n",
        "# Evaluating regression model\n",
        "mae = mean_absolute_error(y_test_reg, y_pred_reg)\n",
        "mse = mean_squared_error(y_test_reg, y_pred_reg)\n",
        "rmse = np.sqrt(mse)\n",
        "r2 = r2_score(y_test_reg, y_pred_reg)\n",
        "\n",
        "#Printing the results\n",
        "print(\"\\nRegression Model Evaluation Metrics:\")\n",
        "print(f\"Mean Absolute Error (MAE): {mae:.2f}\")\n",
        "print(f\"Mean Squared Error (MSE): {mse:.2f}\")\n",
        "print(f\"Root Mean Squared Error (RMSE): {rmse:.2f}\")\n",
        "print(f\"R² Score: {r2:.2f}\")\n",
        "print(\"\\nThe model's metrics reveal that it is not performing well for the regression task. \")\n",
        "print(\"\\nThe value of R^2 is closer to zero indicating that the model is explaining only 15% of the variance in the target variable.\\nThe remaining 85% of the variability is unexplained, which suggests the model does not fit the data well.\")\n"
      ],
      "metadata": {
        "colab": {
          "base_uri": "https://localhost:8080/"
        },
        "id": "HujKe_NZRYr0",
        "outputId": "bf1fe317-a0e7-4172-b042-647708df9c7b"
      },
      "execution_count": 2,
      "outputs": [
        {
          "output_type": "stream",
          "name": "stdout",
          "text": [
            "Pregnancies                 0\n",
            "Glucose                     0\n",
            "BloodPressure               0\n",
            "SkinThickness               0\n",
            "Insulin                     0\n",
            "BMI                         0\n",
            "DiabetesPedigreeFunction    0\n",
            "Age                         0\n",
            "Outcome                     0\n",
            "dtype: int64\n",
            "\n",
            "There are no missing values.\n",
            "\n",
            " Regression Task: Predict BloodPressure\n",
            "\n",
            "\n",
            "Regression Model Evaluation Metrics:\n",
            "Mean Absolute Error (MAE): 12.54\n",
            "Mean Squared Error (MSE): 408.40\n",
            "Root Mean Squared Error (RMSE): 20.21\n",
            "R² Score: 0.15\n",
            "\n",
            "The model's metrics reveal that it is not performing well for the regression task. \n",
            "\n",
            "The value of R^2 is closer to zero indicating that the model is explaining only 15% of the variance in the target variable.\n",
            "The remaining 85% of the variability is unexplained, which suggests the model does not fit the data well.\n"
          ]
        }
      ]
    },
    {
      "cell_type": "code",
      "source": [
        "from sklearn.metrics import accuracy_score, classification_report\n",
        "\n",
        "# Classification Task: Predict Outcome\n",
        "print(\"\\n Classification Task: Predict Outcome\")\n",
        "\n",
        "# Define features (X) and target (y) for classification\n",
        "X_classification = data.drop(columns=['Outcome'])  # Exclude Outcome as the target\n",
        "y_classification = data['Outcome']\n",
        "\n",
        "# Train-test split for classification\n",
        "X_train_class, X_test_class, y_train_class, y_test_class = train_test_split(X_classification, y_classification, test_size=0.3, random_state=42)\n",
        "\n",
        "# Use K-Nearest Neighbors (KNN) for classification\n",
        "class_model = KNeighborsClassifier(n_neighbors=5)  # KNN with 5 neighbors\n",
        "class_model_name = \"K-Nearest Neighbors\"\n",
        "\n",
        "# Train classification model\n",
        "class_model.fit(X_train_class, y_train_class)\n",
        "\n",
        "# Make predictions\n",
        "y_pred_class = class_model.predict(X_test_class)\n",
        "\n",
        "# Evaluate classification model\n",
        "accuracy = accuracy_score(y_test_class, y_pred_class)\n",
        "print(f\"\\nAccuracy of {class_model_name}: {accuracy}\")\n",
        "print(\"\\nClassification Report:\")\n",
        "print(classification_report(y_test_class, y_pred_class))\n",
        "print(\"The overall accuracy of 68.83% indicates a moderately performing model.\")\n",
        "\n"
      ],
      "metadata": {
        "colab": {
          "base_uri": "https://localhost:8080/"
        },
        "id": "uQ45Li7SfhXr",
        "outputId": "d021be6e-1f0c-4f11-926d-3e60923503a4"
      },
      "execution_count": 3,
      "outputs": [
        {
          "output_type": "stream",
          "name": "stdout",
          "text": [
            "\n",
            " Classification Task: Predict Outcome\n",
            "\n",
            "Accuracy of K-Nearest Neighbors: 0.6883116883116883\n",
            "\n",
            "Classification Report:\n",
            "              precision    recall  f1-score   support\n",
            "\n",
            "           0       0.77      0.75      0.76       151\n",
            "           1       0.55      0.56      0.56        80\n",
            "\n",
            "    accuracy                           0.69       231\n",
            "   macro avg       0.66      0.66      0.66       231\n",
            "weighted avg       0.69      0.69      0.69       231\n",
            "\n",
            "The overall accuracy of 68.83% indicates a moderately performing model.\n"
          ]
        }
      ]
    }
  ]
}