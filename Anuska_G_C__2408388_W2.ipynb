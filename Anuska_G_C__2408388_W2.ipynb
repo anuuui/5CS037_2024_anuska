{
  "nbformat": 4,
  "nbformat_minor": 0,
  "metadata": {
    "colab": {
      "provenance": []
    },
    "kernelspec": {
      "name": "python3",
      "display_name": "Python 3"
    },
    "language_info": {
      "name": "python"
    }
  },
  "cells": [
    {
      "cell_type": "markdown",
      "source": [
        "**3.1 Warming Up Exercises - Basic Inspection and Exploration:**\n"
      ],
      "metadata": {
        "id": "raRri02kzUdu"
      }
    },
    {
      "cell_type": "markdown",
      "source": [
        "Problem 1 - Data Read, Write and Inspect:"
      ],
      "metadata": {
        "id": "1p2BFnEjzZCF"
      }
    },
    {
      "cell_type": "code",
      "source": [
        "#Importing pandas\n",
        "import pandas as pd\n",
        "\n",
        "#(1).Loading the bank.csv file\n",
        "file_path='bank.csv';\n",
        "dataset = pd.read_csv(file_path)\n",
        "\n",
        "#2(a). Printing the columns with the data types \"object\"\n",
        "col_object = dataset.select_dtypes(include='object').columns\n",
        "print(\"\\nColumns with dtype=object:\")\n",
        "print()\n",
        "print(col_object)\n",
        "print()\n",
        "\n",
        "#(b). Printing the unique values of that columns\n",
        "print(\"\\nUnique Values in Columns:\")\n",
        "print()\n",
        "for column in col_object:\n",
        "    unique_values = dataset[column].unique()\n",
        "    print(f\"{column}: {unique_values}\")\n",
        "print()\n",
        "\n",
        "# (c) Checking for the total number of null values in each column\n",
        "null_values = dataset.isnull().sum()\n",
        "print(\"Null values in each column:\")\n",
        "print()\n",
        "print(null_values)\n",
        "print()\n",
        "\n",
        "# (3).Dropping all columns with dtype=object\n",
        "numeric_dataset = dataset.drop(columns=col_object)\n",
        "\n",
        "# Saving the new DataFrame to banknumericdata.csv file\n",
        "numeric_dataset.to_csv('banknumericdata.csv', index=False)\n",
        "print(\"\\nNumeric dataset saved as 'banknumericdata.csv'.\")\n",
        "print()\n",
        "\n",
        "# (4)Reading the dataset\n",
        "data = pd.read_csv('banknumericdata.csv')\n",
        "\n",
        "# Summary statistics\n",
        "print(\"Summary Statistics of Numeric Data:\")\n",
        "print()\n",
        "print(data.describe())\n"
      ],
      "metadata": {
        "colab": {
          "base_uri": "https://localhost:8080/"
        },
        "id": "AMkDCL9YzOlG",
        "outputId": "992ceb2f-cb7a-4677-b5a3-1de95ca184cd"
      },
      "execution_count": null,
      "outputs": [
        {
          "output_type": "stream",
          "name": "stdout",
          "text": [
            "\n",
            "Columns with dtype=object:\n",
            "\n",
            "Index(['job', 'marital', 'education', 'default', 'housing', 'loan', 'contact',\n",
            "       'month', 'poutcome', 'y'],\n",
            "      dtype='object')\n",
            "\n",
            "\n",
            "Unique Values in Columns:\n",
            "\n",
            "job: ['management' 'technician' 'entrepreneur' 'blue-collar' 'unknown'\n",
            " 'retired' 'admin.' 'services' 'self-employed' 'unemployed' 'housemaid'\n",
            " 'student']\n",
            "marital: ['married' 'single' 'divorced']\n",
            "education: ['tertiary' 'secondary' 'unknown' 'primary']\n",
            "default: ['no' 'yes']\n",
            "housing: ['yes' 'no']\n",
            "loan: ['no' 'yes']\n",
            "contact: ['unknown' 'cellular' 'telephone']\n",
            "month: ['may' 'jun' 'jul' 'aug' 'oct' 'nov' 'dec' 'jan' 'feb' 'mar' 'apr' 'sep']\n",
            "poutcome: ['unknown' 'failure' 'other' 'success']\n",
            "y: ['no' 'yes']\n",
            "\n",
            "Null values in each column:\n",
            "\n",
            "age          0\n",
            "job          0\n",
            "marital      0\n",
            "education    0\n",
            "default      0\n",
            "balance      0\n",
            "housing      0\n",
            "loan         0\n",
            "contact      0\n",
            "day          0\n",
            "month        0\n",
            "duration     0\n",
            "campaign     0\n",
            "pdays        0\n",
            "previous     0\n",
            "poutcome     0\n",
            "y            0\n",
            "dtype: int64\n",
            "\n",
            "\n",
            "Numeric dataset saved as 'banknumericdata.csv'.\n",
            "\n",
            "Summary Statistics of Numeric Data:\n",
            "\n",
            "                age        balance           day      duration      campaign  \\\n",
            "count  45211.000000   45211.000000  45211.000000  45211.000000  45211.000000   \n",
            "mean      40.936210    1362.272058     15.806419    258.163080      2.763841   \n",
            "std       10.618762    3044.765829      8.322476    257.527812      3.098021   \n",
            "min       18.000000   -8019.000000      1.000000      0.000000      1.000000   \n",
            "25%       33.000000      72.000000      8.000000    103.000000      1.000000   \n",
            "50%       39.000000     448.000000     16.000000    180.000000      2.000000   \n",
            "75%       48.000000    1428.000000     21.000000    319.000000      3.000000   \n",
            "max       95.000000  102127.000000     31.000000   4918.000000     63.000000   \n",
            "\n",
            "              pdays      previous  \n",
            "count  45211.000000  45211.000000  \n",
            "mean      40.197828      0.580323  \n",
            "std      100.128746      2.303441  \n",
            "min       -1.000000      0.000000  \n",
            "25%       -1.000000      0.000000  \n",
            "50%       -1.000000      0.000000  \n",
            "75%       -1.000000      0.000000  \n",
            "max      871.000000    275.000000  \n"
          ]
        }
      ]
    },
    {
      "cell_type": "markdown",
      "source": [
        "Problem 2 - Data Imputations:"
      ],
      "metadata": {
        "id": "HiKB9ClGzs1Z"
      }
    },
    {
      "cell_type": "code",
      "execution_count": null,
      "metadata": {
        "colab": {
          "base_uri": "https://localhost:8080/"
        },
        "id": "_89Kp3n-Y2Bd",
        "outputId": "e772613b-acfc-4f34-b89d-ddc099d76890"
      },
      "outputs": [
        {
          "output_type": "stream",
          "name": "stdout",
          "text": [
            " Student ID  Age Gender     Height    Weight Blood Type       BMI  Temperature  Heart Rate  Blood Pressure  Cholesterol Diabetes Smoking\n",
            "        1.0 18.0 Female 161.777924 72.354947          O 27.645835          NaN        95.0           109.0        203.0       No     NaN\n",
            "        2.0  NaN   Male 152.069157 47.630941          B       NaN    98.714977        93.0           104.0        163.0       No      No\n",
            "        3.0 32.0 Female 182.537664 55.741083          A 16.729017    98.260293        76.0           130.0        216.0      Yes      No\n",
            "        NaN 30.0   Male 182.112867 63.332207          B 19.096042    98.839605        99.0           112.0        141.0       No     Yes\n",
            "        5.0 23.0 Female        NaN 46.234173          O       NaN    98.480008        95.0             NaN        231.0       No      No\n",
            "\n",
            "Columns with Missing Values:\n",
            "Student ID        20000\n",
            "Age               20000\n",
            "Gender            20000\n",
            "Height            20000\n",
            "Weight            20000\n",
            "Blood Type        20000\n",
            "BMI               20000\n",
            "Temperature       20000\n",
            "Heart Rate        20000\n",
            "Blood Pressure    20000\n",
            "Cholesterol       20000\n",
            "Diabetes          20000\n",
            "Smoking           20000\n",
            "dtype: int64\n",
            "\n"
          ]
        },
        {
          "output_type": "stream",
          "name": "stderr",
          "text": [
            "<ipython-input-7-17176e975790>:24: FutureWarning: A value is trying to be set on a copy of a DataFrame or Series through chained assignment using an inplace method.\n",
            "The behavior will change in pandas 3.0. This inplace method will never work because the intermediate object on which we are setting values always behaves as a copy.\n",
            "\n",
            "For example, when doing 'df[col].method(value, inplace=True)', try using 'df.method({col: value}, inplace=True)' or df[col] = df[col].method(value) instead, to perform the operation inplace on the original object.\n",
            "\n",
            "\n",
            "  df[column].fillna(df[column].mean(), inplace=True)\n",
            "<ipython-input-7-17176e975790>:21: FutureWarning: A value is trying to be set on a copy of a DataFrame or Series through chained assignment using an inplace method.\n",
            "The behavior will change in pandas 3.0. This inplace method will never work because the intermediate object on which we are setting values always behaves as a copy.\n",
            "\n",
            "For example, when doing 'df[col].method(value, inplace=True)', try using 'df.method({col: value}, inplace=True)' or df[col] = df[col].method(value) instead, to perform the operation inplace on the original object.\n",
            "\n",
            "\n",
            "  df[column].fillna(df[column].mode()[0], inplace=True)\n"
          ]
        },
        {
          "output_type": "stream",
          "name": "stdout",
          "text": [
            "Missing values after filling:\n",
            "Student ID        0\n",
            "Age               0\n",
            "Gender            0\n",
            "Height            0\n",
            "Weight            0\n",
            "Blood Type        0\n",
            "BMI               0\n",
            "Temperature       0\n",
            "Heart Rate        0\n",
            "Blood Pressure    0\n",
            "Cholesterol       0\n",
            "Diabetes          0\n",
            "Smoking           0\n",
            "dtype: int64\n",
            "\n",
            "Number of duplicate rows: 12572\n",
            "Duplicate rows removed.\n",
            "Number of duplicate rows after removal: 0\n",
            "Cleaned dataset saved as 'medical_student_new.csv'.\n"
          ]
        }
      ],
      "source": [
        "import pandas as pd\n",
        "\n",
        "#(1).\n",
        "#Loading the dataset\n",
        "df = pd.read_csv(\"medical_students_dataset.csv\")\n",
        "\n",
        "#(2).\n",
        "#Printing the 5 rows and formatting it to string.\n",
        "print(df.head().to_string(index=False))\n",
        "print(\"\\nColumns with Missing Values:\")\n",
        "#Finding the total number of missing values of the dataset\n",
        "print(df.isnull().sum())\n",
        "print()\n",
        "\n",
        "#(3).\n",
        "#Filling those missing values\n",
        "for column in df.columns:\n",
        "    if df[column].isnull().sum() > 0:\n",
        "        if df[column].dtype == 'object':\n",
        "            # For categorical columns filling with mode\n",
        "            df[column].fillna(df[column].mode()[0], inplace=True)\n",
        "        else:\n",
        "            # For  numerical columns filling with mean\n",
        "            df[column].fillna(df[column].mean(), inplace=True)\n",
        "\n",
        "#Printing to see if there are any missing values left\n",
        "print(\"Missing values after filling:\")\n",
        "print(df.isnull().sum())\n",
        "print()\n",
        "\n",
        "\n",
        "#(4).\n",
        "#Checks if there are any duplicate rows and returns boolean\n",
        "num_duplicates = df.duplicated().sum()\n",
        "print(f\"Number of duplicate rows: {num_duplicates}\")\n",
        "\n",
        "# If duplicates are found, drop them\n",
        "if num_duplicates > 0:\n",
        "    df = df.drop_duplicates()\n",
        "    print(\"Duplicate rows removed.\")\n",
        "\n",
        "# Confirm duplicates are handled\n",
        "print(f\"Number of duplicate rows after removal: {df.duplicated().sum()}\")\n",
        "\n",
        "# Save the cleaned dataset\n",
        "df.to_csv(\"medical_student_new.csv\", index=False)\n",
        "print(\"Cleaned dataset saved as 'medical_student_new.csv'.\")"
      ]
    },
    {
      "cell_type": "markdown",
      "source": [],
      "metadata": {
        "id": "jamUNe5kzo15"
      }
    },
    {
      "cell_type": "code",
      "source": [
        "#Importing pandas\n",
        "import pandas as pd\n",
        "import matplotlib.pyplot as plt\n",
        "\n",
        "# Loading the Titanic dataset\n",
        "df = pd.read_csv('Titanic-Dataset.csv')\n",
        "\n",
        "# Problem 1: Subset the DataFrame and calculate statistics for 'Fare'\n",
        "df_subset = df[['Name', 'Pclass', 'Sex', 'Age', 'Fare', 'Survived']]\n",
        "df_first_class = df_subset[df_subset['Pclass'] == 1]\n",
        "mean_fare = df_first_class['Fare'].mean()\n",
        "median_fare = df_first_class['Fare'].median()\n",
        "max_fare = df_first_class['Fare'].max()\n",
        "min_fare = df_first_class['Fare'].min()\n",
        "\n",
        "print(\"Problem: 1\")\n",
        "print(\"The mean fare is:\",mean_fare)\n",
        "print(\"The meadian fare is:\",median_fare)\n",
        "print(\"The max fare is:\",max_fare)\n",
        "print(\"The min fare is:\",min_fare)\n",
        "\n",
        "# Problem 2: Count and drop null values in 'Age'\n",
        "null_age_count = df_first_class['Age'].isnull().sum()\n",
        "print(\"Problem: 2\")\n",
        "print(\"The null age count is:\",null_age_count)\n",
        "\n",
        "df_first_class_clean = df_first_class.dropna(subset=['Age'])\n",
        "print(f\"Number of rows after dropping null values in 'Age': {len(df_first_class)}\")\n",
        "print()\n",
        "\n",
        "\n",
        "# Problem 3: One-hot encode 'Embarked' and drop the original column\n",
        "df_one_hot = pd.get_dummies(df, columns=['Embarked'], prefix='Embarked')\n",
        "print(\"Problem: 3\")\n",
        "print(\"One-hot encode 'Embarked' is :\")\n",
        "print()\n",
        "print(df_one_hot.head())\n",
        "# df_one_hot[df_one_hot.columns[df_one_hot.columns.str.startswith('Embarked')]] = df_one_hot[df_one_hot.columns[df_one_hot.columns.str.startswith('Embarked')]].astype(int)\n",
        "\n",
        "\n",
        "# Problem 4: Mean survival rate by gender\n",
        "mean_survival_by_sex = df.groupby('Sex')['Survived'].mean()\n",
        "plt.bar(mean_survival_by_sex.index, mean_survival_by_sex.values)\n",
        "plt.title('Mean Survival Rate by Gender')\n",
        "plt.xlabel('Gender')\n",
        "plt.ylabel('Mean Survival Rate')\n",
        "print()\n",
        "print(\"Problem: 4\")\n",
        "print()\n",
        "plt.show()\n",
        "\n",
        "# Problem 5: Survival rates by gender and embarkation port\n",
        "mean_survival_by_sex_embarked = df.groupby(['Sex', 'Embarked'])['Survived'].mean().unstack()\n",
        "mean_survival_by_sex_embarked.plot(kind='bar')\n",
        "plt.title('Mean Survival Rate by Gender and Embarkation Port')\n",
        "plt.xlabel('Gender')\n",
        "plt.ylabel('Mean Survival Rate')\n",
        "plt.xticks(rotation=0)\n",
        "plt.legend(title='Embarked', labels=['Cherbourg', 'Queenstown', 'Southampton'])\n",
        "print()\n",
        "print(\"Problem: 5\")\n",
        "print()\n",
        "plt.show()\n",
        "\n",
        "\n"
      ],
      "metadata": {
        "colab": {
          "base_uri": "https://localhost:8080/",
          "height": 1000
        },
        "id": "eyIQXGsigHEl",
        "outputId": "537aa433-473f-40c3-d395-a92f0377a0fe"
      },
      "execution_count": null,
      "outputs": [
        {
          "output_type": "stream",
          "name": "stdout",
          "text": [
            "Problem: 1\n",
            "The mean fare is: 84.1546875\n",
            "The meadian fare is: 60.287499999999994\n",
            "The max fare is: 512.3292\n",
            "The min fare is: 0.0\n",
            "Problem: 2\n",
            "The null age count is: 30\n",
            "Number of rows after dropping null values in 'Age': 216\n",
            "\n",
            "Problem: 3\n",
            "One-hot encode 'Embarked' is :\n",
            "\n",
            "   PassengerId  Survived  Pclass  \\\n",
            "0            1         0       3   \n",
            "1            2         1       1   \n",
            "2            3         1       3   \n",
            "3            4         1       1   \n",
            "4            5         0       3   \n",
            "\n",
            "                                                Name     Sex   Age  SibSp  \\\n",
            "0                            Braund, Mr. Owen Harris    male  22.0      1   \n",
            "1  Cumings, Mrs. John Bradley (Florence Briggs Th...  female  38.0      1   \n",
            "2                             Heikkinen, Miss. Laina  female  26.0      0   \n",
            "3       Futrelle, Mrs. Jacques Heath (Lily May Peel)  female  35.0      1   \n",
            "4                           Allen, Mr. William Henry    male  35.0      0   \n",
            "\n",
            "   Parch            Ticket     Fare Cabin  Embarked_C  Embarked_Q  Embarked_S  \n",
            "0      0         A/5 21171   7.2500   NaN       False       False        True  \n",
            "1      0          PC 17599  71.2833   C85        True       False       False  \n",
            "2      0  STON/O2. 3101282   7.9250   NaN       False       False        True  \n",
            "3      0            113803  53.1000  C123       False       False        True  \n",
            "4      0            373450   8.0500   NaN       False       False        True  \n",
            "\n",
            "Problem: 4\n",
            "\n"
          ]
        },
        {
          "output_type": "display_data",
          "data": {
            "text/plain": [
              "<Figure size 640x480 with 1 Axes>"
            ],
            "image/png": "[encoded data removed]"
          },
          "metadata": {}
        },
        {
          "output_type": "stream",
          "name": "stdout",
          "text": [
            "\n",
            "Problem: 5\n",
            "\n"
          ]
        },
        {
          "output_type": "display_data",
          "data": {
            "text/plain": [
              "<Figure size 640x480 with 1 Axes>"
            ],
            "image/png": "[encoded data removed]"
          },
          "metadata": {}
        }
      ]
    }
  ]
}